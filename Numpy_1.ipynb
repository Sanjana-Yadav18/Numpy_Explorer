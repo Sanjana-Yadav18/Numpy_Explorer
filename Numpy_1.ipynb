{
 "cells": [
  {
   "cell_type": "code",
   "execution_count": 1,
   "id": "f595b13e-c3e5-450a-936f-94e7cb04df4c",
   "metadata": {},
   "outputs": [
    {
     "name": "stdout",
     "output_type": "stream",
     "text": [
      "<class 'list'>\n"
     ]
    }
   ],
   "source": [
    "# Create a NumPy array 'arr' of integers from 0 to 5 and print its data type.\n",
    "\n",
    "import numpy as np\n",
    "# Create a NumPy array of integers from 0 to 5\n",
    "arr = np.array([0, 1, 2, 3, 4, 5])\n",
    "\n",
    "# Print the data type of the array\n",
    "print(\"Data type of 'arr':\", arr.dtype)"
   ]
  },
  {
   "cell_type": "code",
   "execution_count": 3,
   "id": "07c93c90-1cbf-400b-aa78-f1342dc780bc",
   "metadata": {},
   "outputs": [
    {
     "name": "stdout",
     "output_type": "stream",
     "text": [
      "The data type of 'arr' is float64.\n"
     ]
    }
   ],
   "source": [
    "#  Given a NumPy array 'arr', check if its data type is float64.\n",
    "  # arr = np.array([1.5, 2.6, 3.7])\n",
    "    \n",
    "import numpy as np    \n",
    "# Given NumPy array\n",
    "arr = np.array([1.5, 2.6, 3.7])\n",
    "\n",
    "# Check if the data type of the array is float64\n",
    "if arr.dtype == np.float64:\n",
    "    print(\"The data type of 'arr' is float64.\")\n",
    "else:\n",
    "    print(\"The data type of 'arr' is not float64.\")\n"
   ]
  },
  {
   "cell_type": "code",
   "execution_count": 6,
   "id": "ecfbd3be-ff50-4ace-8658-c3aa1d3ab547",
   "metadata": {},
   "outputs": [
    {
     "name": "stdout",
     "output_type": "stream",
     "text": [
      "NumPy array 'arr' with complex numbers:\n",
      " [2.+3.j 4.-2.j 5.+1.j]\n"
     ]
    }
   ],
   "source": [
    "# Create a NumPy array 'arr' with a data type of complex128 containing three complex numbers.\n",
    "\n",
    "import numpy as np\n",
    "\n",
    "# Create a NumPy array with complex numbers\n",
    "arr = np.array([2 + 3j, 4 - 2j, 5 + 1j], dtype=np.complex128)\n",
    "\n",
    "# Print the array\n",
    "print(\"NumPy array 'arr' with complex numbers:\\n\", arr)\n"
   ]
  },
  {
   "cell_type": "code",
   "execution_count": 2,
   "id": "daf85099-aec2-49a6-897e-3f6fed7b1ee0",
   "metadata": {},
   "outputs": [
    {
     "name": "stdout",
     "output_type": "stream",
     "text": [
      "Original array:\n",
      " [1 2 3 4 5]\n",
      "\n",
      "Array after conversion to float32:\n",
      " [1. 2. 3. 4. 5.]\n"
     ]
    }
   ],
   "source": [
    "# Convert an existing NumPy array 'arr' of integers to float32 data type.\n",
    "\n",
    "import numpy as np\n",
    "\n",
    "# Assuming 'arr' is your existing NumPy array of integers\n",
    "arr = np.array([1, 2, 3, 4, 5])\n",
    "\n",
    "# Convert the data type of 'arr' to float32\n",
    "arr_float32 = arr.astype(np.float32)\n",
    "\n",
    "# Print the converted array\n",
    "print(\"Original array:\\n\", arr)\n",
    "print(\"\\nArray after conversion to float32:\\n\", arr_float32)\n",
    "\n"
   ]
  },
  {
   "cell_type": "code",
   "execution_count": 3,
   "id": "a8e7cf46-8653-4817-b70d-0a90e968eb6e",
   "metadata": {},
   "outputs": [
    {
     "name": "stdout",
     "output_type": "stream",
     "text": [
      "Original array:\n",
      " [1.5 2.6 3.7]\n",
      "\n",
      "Array after conversion to float32:\n",
      " [1.5 2.6 3.7]\n"
     ]
    }
   ],
   "source": [
    "# Given a NumPy array 'arr' with float64 data type, convert it to float32 to reduce decimal precision.\n",
    "\n",
    "import numpy as np\n",
    "\n",
    "# Assuming 'arr' is your existing NumPy array with float64 data type\n",
    "arr = np.array([1.5, 2.6, 3.7])\n",
    "\n",
    "# Convert the data type of 'arr' to float32\n",
    "arr_float32 = arr.astype(np.float32)\n",
    "\n",
    "# Print the converted array\n",
    "print(\"Original array:\\n\", arr)\n",
    "print(\"\\nArray after conversion to float32:\\n\", arr_float32)"
   ]
  },
  {
   "cell_type": "code",
   "execution_count": 4,
   "id": "66802ee1-0f95-424a-86fb-ea9f1f72a880",
   "metadata": {},
   "outputs": [
    {
     "name": "stdout",
     "output_type": "stream",
     "text": [
      "Shape of the array: (2, 3)\n",
      "Size of the array: 6\n",
      "Data type of the array: int64\n"
     ]
    }
   ],
   "source": [
    "# Write a function array_attributes that takes a NumPy array as input and returns its shape, size, and datatype.\n",
    "\n",
    "import numpy as np\n",
    "\n",
    "def array_attributes(arr):\n",
    "    \"\"\"\n",
    "    Returns the shape, size, and data type of a NumPy array.\n",
    "    \n",
    "    Parameters:\n",
    "        arr (numpy.ndarray): Input NumPy array.\n",
    "    \n",
    "    Returns:\n",
    "        tuple: A tuple containing the shape, size, and data type of the array.\n",
    "    \"\"\"\n",
    "    shape = arr.shape\n",
    "    size = arr.size\n",
    "    dtype = arr.dtype\n",
    "    return shape, size, dtype\n",
    "\n",
    "my_array = np.array([[1, 2, 3], [4, 5, 6]])\n",
    "shape, size, dtype = array_attributes(my_array)\n",
    "print(\"Shape of the array:\", shape)\n",
    "print(\"Size of the array:\", size)\n",
    "print(\"Data type of the array:\", dtype)"
   ]
  },
  {
   "cell_type": "code",
   "execution_count": 5,
   "id": "809b112d-3edd-404d-bede-6b89401dbdaf",
   "metadata": {},
   "outputs": [
    {
     "name": "stdout",
     "output_type": "stream",
     "text": [
      "Dimensionality of the array: 2\n"
     ]
    }
   ],
   "source": [
    "# Create a function array_dimension that takes a NumPy array as input and returns its dimensionality.\n",
    "\n",
    "import numpy as np\n",
    "\n",
    "def array_dimension(arr):\n",
    "    \"\"\"\n",
    "    Returns the dimensionality of a NumPy array.\n",
    "    \n",
    "    Parameters:\n",
    "        arr (numpy.ndarray): Input NumPy array.\n",
    "    \n",
    "    Returns:\n",
    "        int: The dimensionality of the array.\n",
    "    \"\"\"\n",
    "    return arr.ndim\n",
    "\n",
    "my_array = np.array([[1, 2, 3], [4, 5, 6]])\n",
    "dimension = array_dimension(my_array)\n",
    "print(\"Dimensionality of the array:\", dimension)"
   ]
  },
  {
   "cell_type": "code",
   "execution_count": 11,
   "id": "2657ece4-cd5a-4356-9946-f277a5a8ed26",
   "metadata": {},
   "outputs": [
    {
     "name": "stdout",
     "output_type": "stream",
     "text": [
      "Item size of the array: 8\n",
      "Total size of the array (in bytes): 48\n"
     ]
    }
   ],
   "source": [
    "# Design a function item_size_info that takes a NumPy array as input and returns the item size and\n",
    "# the total size in bytes.\n",
    "\n",
    "import numpy as np\n",
    "\n",
    "def item_size_info(arr):\n",
    "    \"\"\"\n",
    "    Returns the item size and total size in bytes of a NumPy array.\n",
    "    \n",
    "    Parameters:\n",
    "        arr (numpy.ndarray): Input NumPy array.\n",
    "    \n",
    "    Returns:\n",
    "        tuple: A tuple containing the item size and total size in bytes of the array.\n",
    "    \"\"\"\n",
    "    item_size = arr.itemsize\n",
    "    total_size = arr.nbytes\n",
    "    return item_size, total_size\n",
    "\n",
    "my_array = np.array([[1, 2, 3], [4, 5, 6]])\n",
    "item_size, total_size = item_size_info(my_array)\n",
    "print(\"Item size of the array:\", item_size)\n",
    "print(\"Total size of the array (in bytes):\", total_size)"
   ]
  },
  {
   "cell_type": "code",
   "execution_count": 14,
   "id": "3a6890b3-6004-4c78-8b07-7bba786fa89b",
   "metadata": {},
   "outputs": [
    {
     "name": "stdout",
     "output_type": "stream",
     "text": [
      "Strides of the array: (24, 8)\n"
     ]
    }
   ],
   "source": [
    "#  Create a function array_strides that takes a NumPy array as input and returns the strides of the array.\n",
    "\n",
    "import numpy as np\n",
    "\n",
    "def array_strides(arr):\n",
    "    \"\"\"\n",
    "    Returns the strides of a NumPy array.\n",
    "    \n",
    "    Parameters:\n",
    "        arr (numpy.ndarray): Input NumPy array.\n",
    "    \n",
    "    Returns:\n",
    "        tuple: A tuple containing the strides of the array.\n",
    "    \"\"\"\n",
    "    return arr.strides\n",
    "\n",
    "# Example usage:\n",
    "my_array = np.array([[1, 2, 3], [4, 5, 6]])\n",
    "strides = array_strides(my_array)\n",
    "print(\"Strides of the array:\", strides)"
   ]
  },
  {
   "cell_type": "code",
   "execution_count": 17,
   "id": "e89a4aae-301f-40fc-bbd5-07e037576364",
   "metadata": {},
   "outputs": [
    {
     "name": "stdout",
     "output_type": "stream",
     "text": [
      "shape of the array: (2, 3)\n",
      "srtides of the array: (24, 8)\n"
     ]
    }
   ],
   "source": [
    "# Design a function shape_stride_relationship that takes a NumPy array as input and returns the shape\n",
    "# and strides of the array.\n",
    "\n",
    "import numpy as np\n",
    "\n",
    "def shape_strides_relationship(arr):\n",
    "    shape = arr.shape\n",
    "    stride = arr.strides\n",
    "    return shape, strides\n",
    "\n",
    "my_array = np.array([[3,4,5],[6,7,8]])\n",
    "shape, strides = shape_strides_relationship(my_array)\n",
    "print (\"shape of the array:\" ,shape)\n",
    "print(\"srtides of the array:\" ,strides)"
   ]
  },
  {
   "cell_type": "code",
   "execution_count": 2,
   "id": "e247a32c-a475-4f62-9ebc-2bdf72cdf3af",
   "metadata": {},
   "outputs": [
    {
     "name": "stdout",
     "output_type": "stream",
     "text": [
      "NumPy array of zeros with 5 elements: [0. 0. 0. 0. 0.]\n"
     ]
    }
   ],
   "source": [
    "# Create a function `create_zeros_array` that takes an integer `n` as input and returns a NumPy array of\n",
    "# zeros with `n` elements.\n",
    "\n",
    "import numpy as np\n",
    "\n",
    "def create_zeros_array(n):\n",
    "    \"\"\"\n",
    "    Creates a NumPy array of zeros with n elements.\n",
    "    \n",
    "    Parameters:\n",
    "        n (int): Number of elements in the array.\n",
    "    \n",
    "    Returns:\n",
    "        numpy.ndarray: NumPy array of zeros with n elements.\n",
    "    \"\"\"\n",
    "    return np.zeros(n)\n",
    "\n",
    "n = 5\n",
    "zeros_array = create_zeros_array(n)\n",
    "print(\"NumPy array of zeros with\", n, \"elements:\", zeros_array)"
   ]
  },
  {
   "cell_type": "code",
   "execution_count": 5,
   "id": "f0e66af7-1bc9-42b2-803b-66180c657536",
   "metadata": {},
   "outputs": [
    {
     "name": "stdout",
     "output_type": "stream",
     "text": [
      "2D NumPy array filled with ones of size 3 x 4 :\n",
      " [[1. 1. 1. 1.]\n",
      " [1. 1. 1. 1.]\n",
      " [1. 1. 1. 1.]]\n"
     ]
    }
   ],
   "source": [
    "# Write a function `create_ones_matrix` that takes integers `rows` and `cols` as inputs and generates a 2D\n",
    "# NumPy array filled with ones of size `rows x cols`.\n",
    "\n",
    "import numpy as np\n",
    "\n",
    "def create_ones_matrix(rows, cols):\n",
    "    \"\"\"\n",
    "    Creates a 2D NumPy array filled with ones of size rows x cols.\n",
    "    \n",
    "    Parameters:\n",
    "        rows (int): Number of rows in the matrix.\n",
    "        cols (int): Number of columns in the matrix.\n",
    "    \n",
    "    Returns:\n",
    "        numpy.ndarray: 2D NumPy array filled with ones of size rows x cols.\n",
    "    \"\"\"\n",
    "    return np.ones((rows, cols))\n",
    "\n",
    "rows = 3\n",
    "cols = 4\n",
    "ones_matrix = create_ones_matrix(rows, cols)\n",
    "print(\"2D NumPy array filled with ones of size\", rows, \"x\", cols, \":\\n\", ones_matrix)\n"
   ]
  },
  {
   "cell_type": "code",
   "execution_count": 7,
   "id": "cca33a52-b7e2-4cf3-9a88-5767465baa10",
   "metadata": {},
   "outputs": [
    {
     "name": "stdout",
     "output_type": "stream",
     "text": [
      "NumPy array with range starting from 1 to 9 with step 2 :\n",
      " [1 3 5 7 9]\n"
     ]
    }
   ],
   "source": [
    "# Write a function `generate_range_array` that takes three integers start, stop, and step as arguments and\n",
    "#creates a NumPy array with a range starting from `start`, ending at stop (exclusive), and with the specified step.\n",
    "\n",
    "import numpy as np\n",
    "\n",
    "def generate_range_array(start, stop, step):\n",
    "    return np.arange(start ,stop, step)\n",
    "\n",
    "start =1\n",
    "stop =10\n",
    "step =2\n",
    "range_array = generate_range_array(start, stop, step)\n",
    "print(\"NumPy array with range starting from\", start, \"to\", stop - 1, \"with step\", step, \":\\n\", range_array)"
   ]
  },
  {
   "cell_type": "code",
   "execution_count": 4,
   "id": "e7bb8302-6801-4838-abc2-56415eb876ca",
   "metadata": {},
   "outputs": [
    {
     "name": "stdout",
     "output_type": "stream",
     "text": [
      "NumPy array with linear space starting from 1.0 to 5.0 with 10 values:\n",
      " [1.         1.44444444 1.88888889 2.33333333 2.77777778 3.22222222\n",
      " 3.66666667 4.11111111 4.55555556 5.        ]\n"
     ]
    }
   ],
   "source": [
    "# Design a function `generate_linear_space` that takes two floats `start`, `stop`, and an integer `num` as\n",
    "#arguments and generates a NumPy array with num equally spaced values between `start` and `stop` (inclusive).\n",
    "\n",
    "import numpy as np\n",
    "\n",
    "def generate_linear_space(start, stop, num):\n",
    "    \"\"\"\n",
    "    Generates a NumPy array with num equally spaced values between start and stop (inclusive).\n",
    "    \n",
    "    Parameters:\n",
    "        start (float): Starting value of the linear space.\n",
    "        stop (float): Ending value of the linear space.\n",
    "        num (int): Number of values to generate between start and stop.\n",
    "    \n",
    "    Returns:\n",
    "        numpy.ndarray: NumPy array containing the generated linear space.\n",
    "    \"\"\"\n",
    "    return np.linspace(start, stop, num)\n",
    "\n",
    "start = 1.0\n",
    "stop = 5.0\n",
    "num = 10\n",
    "linear_space_array = generate_linear_space(start, stop, num)\n",
    "print(\"NumPy array with linear space starting from\", start, \"to\", stop, \"with\", num, \"values:\\n\", linear_space_array)"
   ]
  },
  {
   "cell_type": "code",
   "execution_count": 5,
   "id": "268c8c74-eeb2-4a06-ab61-414c62b68d67",
   "metadata": {},
   "outputs": [
    {
     "name": "stdout",
     "output_type": "stream",
     "text": [
      "Square identity matrix of size 5 x 5 :\n",
      " [[1. 0. 0. 0. 0.]\n",
      " [0. 1. 0. 0. 0.]\n",
      " [0. 0. 1. 0. 0.]\n",
      " [0. 0. 0. 1. 0.]\n",
      " [0. 0. 0. 0. 1.]]\n"
     ]
    }
   ],
   "source": [
    "#  Create a function `create_identity_matrix` that takes an integer `n` as input and generates a square identity matrix \n",
    "# of size `n x n` using `numpy.eye`.\n",
    "\n",
    "import numpy as np\n",
    "\n",
    "def create_identity_matrix(n) :\n",
    "    return np.eye(n)\n",
    "\n",
    "n = 5\n",
    "identity_matrix = create_identity_matrix(n)\n",
    "print(\"Square identity matrix of size\", n, \"x\", n, \":\\n\", identity_matrix)\n"
   ]
  },
  {
   "cell_type": "code",
   "execution_count": 9,
   "id": "eabe3816-d088-4439-859c-eb532d4a1e1f",
   "metadata": {},
   "outputs": [
    {
     "name": "stdout",
     "output_type": "stream",
     "text": [
      "NumPy array created from the Python list: [1 2 3 4 5]\n"
     ]
    }
   ],
   "source": [
    "#  Write a function that takes a Python list and converts it into a NumPy array.\n",
    "\n",
    "import numpy as np\n",
    "\n",
    "def list_to_numpy_array(input_list):\n",
    "    \"\"\"\n",
    "    Converts a Python list into a NumPy array.\n",
    "    \n",
    "    Parameters:\n",
    "        input_list (list): The Python list to be converted.\n",
    "    \n",
    "    Returns:\n",
    "        numpy.ndarray: The NumPy array created from the input list.\n",
    "    \"\"\"\n",
    "    return np.array(input_list)\n",
    "\n",
    "my_list = [1, 2, 3, 4, 5]\n",
    "numpy_array = list_to_numpy_array(my_list)\n",
    "print(\"NumPy array created from the Python list:\", numpy_array)"
   ]
  },
  {
   "cell_type": "code",
   "execution_count": 15,
   "id": "1063b746-6973-431f-8fa5-bf1884d0e4f8",
   "metadata": {},
   "outputs": [
    {
     "name": "stdout",
     "output_type": "stream",
     "text": [
      "Original array: [1 2 3 4 5]\n",
      "View array: [1 2 3 4 5]\n"
     ]
    }
   ],
   "source": [
    "# Create a NumPy array and demonstrate the use of `numpy.view` to create a new array object with the same data.\n",
    "\n",
    "import numpy as np\n",
    "\n",
    "# Create a NumPy array\n",
    "original_array = np.array([1, 2, 3, 4, 5])\n",
    "\n",
    "# Use numpy.view to create a new array object with the same data\n",
    "view_array = original_array.view()\n",
    "\n",
    "# Print both arrays\n",
    "print(\"Original array:\", original_array)\n",
    "print(\"View array:\", view_array)"
   ]
  },
  {
   "cell_type": "code",
   "execution_count": 22,
   "id": "b80d06cd-e404-4047-8f9f-309729cf3d3a",
   "metadata": {},
   "outputs": [
    {
     "name": "stdout",
     "output_type": "stream",
     "text": [
      "Concatenated array along axis 0:\n",
      " [[1 2]\n",
      " [3 4]\n",
      " [5 6]]\n"
     ]
    }
   ],
   "source": [
    "# Write a function that takes two NumPy arrays and concatenates them along a specified axis.\n",
    "\n",
    "import numpy as np\n",
    "\n",
    "def concatenate_arrays(arr1, arr2, axis=0):\n",
    "    \"\"\"\n",
    "    Concatenates two NumPy arrays along the specified axis.\n",
    "    \n",
    "    Parameters:\n",
    "        arr1 (numpy.ndarray): The first NumPy array.\n",
    "        arr2 (numpy.ndarray): The second NumPy array.\n",
    "        axis (int, optional): The axis along which to concatenate the arrays.\n",
    "            Default is 0 (concatenation along the first axis).\n",
    "    \n",
    "    Returns:\n",
    "        numpy.ndarray: The concatenated NumPy array.\n",
    "    \"\"\"\n",
    "    return np.concatenate((arr1, arr2), axis=axis)\n",
    "\n",
    "array1 = np.array([[1, 2], [3, 4]])\n",
    "array2 = np.array([[5, 6]])\n",
    "concatenated_array = concatenate_arrays(array1, array2, axis=0)\n",
    "print(\"Concatenated array along axis 0:\\n\", concatenated_array)\n",
    "\n"
   ]
  },
  {
   "cell_type": "code",
   "execution_count": 20,
   "id": "cd4a630f-8250-4cd2-9803-531e8a45b22a",
   "metadata": {},
   "outputs": [
    {
     "name": "stdout",
     "output_type": "stream",
     "text": [
      "Concatenated array horizontally:\n",
      " [[ 1  2  3  7  8]\n",
      " [ 4  5  6  9 10]]\n"
     ]
    }
   ],
   "source": [
    "# Create two NumPy arrays with different shapes and concatenate them horizontally using `numpy.concatenate`.\n",
    "\n",
    "import numpy as np\n",
    "\n",
    "# Create two NumPy arrays with different shapes\n",
    "array1 = np.array([[1, 2, 3],\n",
    "                   [4, 5, 6]])\n",
    "\n",
    "array2 = np.array([[7, 8],\n",
    "                   [9, 10]])\n",
    "\n",
    "# Concatenate the arrays horizontally\n",
    "concatenated_array = np.concatenate((array1, array2), axis=1)\n",
    "\n",
    "# Print the concatenated array\n",
    "print(\"Concatenated array horizontally:\\n\", concatenated_array)\n",
    "\n",
    "\n"
   ]
  },
  {
   "cell_type": "code",
   "execution_count": 24,
   "id": "2027c2fe-5c0c-4ed6-a233-24cb5cdca26a",
   "metadata": {},
   "outputs": [
    {
     "name": "stdout",
     "output_type": "stream",
     "text": [
      "Vertically stacked array:\n",
      " [[ 1  2  3]\n",
      " [ 4  5  6]\n",
      " [ 7  8  9]\n",
      " [10 11 12]\n",
      " [13 14 15]\n",
      " [16 17 18]]\n"
     ]
    }
   ],
   "source": [
    "# Write a function that vertically stacks multiple NumPy arrays given as a list\n",
    "\n",
    "import numpy as np\n",
    "\n",
    "def vertical_stack_arrays(arrays):\n",
    "    \"\"\"\n",
    "    Vertically stacks multiple NumPy arrays given as a list.\n",
    "    \n",
    "    Parameters:\n",
    "        arrays (list of numpy.ndarray): List containing NumPy arrays to be vertically stacked.\n",
    "    \n",
    "    Returns:\n",
    "        numpy.ndarray: Vertically stacked NumPy array.\n",
    "    \"\"\"\n",
    "    return np.vstack(arrays)\n",
    "\n",
    "array1 = np.array([[1, 2, 3],\n",
    "                   [4, 5, 6]])\n",
    "\n",
    "array2 = np.array([[7, 8, 9],\n",
    "                   [10, 11, 12]])\n",
    "\n",
    "array3 = np.array([[13, 14, 15],\n",
    "                   [16, 17, 18]])\n",
    "\n",
    "stacked_array = vertical_stack_arrays([array1, array2, array3])\n",
    "print(\"Vertically stacked array:\\n\", stacked_array)\n"
   ]
  }
 ],
 "metadata": {
  "kernelspec": {
   "display_name": "Python 3 (ipykernel)",
   "language": "python",
   "name": "python3"
  },
  "language_info": {
   "codemirror_mode": {
    "name": "ipython",
    "version": 3
   },
   "file_extension": ".py",
   "mimetype": "text/x-python",
   "name": "python",
   "nbconvert_exporter": "python",
   "pygments_lexer": "ipython3",
   "version": "3.10.8"
  }
 },
 "nbformat": 4,
 "nbformat_minor": 5
}
