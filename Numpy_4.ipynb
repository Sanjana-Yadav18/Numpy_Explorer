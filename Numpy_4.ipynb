{
 "cells": [
  {
   "cell_type": "code",
   "execution_count": 1,
   "id": "37bcafa9-8835-45b2-b8ed-dd0c7496b3f2",
   "metadata": {},
   "outputs": [
    {
     "name": "stdout",
     "output_type": "stream",
     "text": [
      "Mean: 507.8\n",
      "Median: 531.0\n",
      "Variance: 95220.29999999999\n",
      "Standard Deviation: 308.5778669963223\n"
     ]
    }
   ],
   "source": [
    "# Create a dataset of 100 random integers between 1 and 1000. Compute the mean, median, variance, and\n",
    "# standard deviation of the dataset using NumPy's functions.\n",
    "\n",
    "import numpy as np\n",
    "\n",
    "# Create a dataset of 100 random integers between 1 and 1000\n",
    "dataset = np.random.randint(1, 1001, size=100)\n",
    "\n",
    "# Compute the mean using np.mean()\n",
    "mean = np.mean(dataset)\n",
    "\n",
    "# Compute the median using np.median()\n",
    "median = np.median(dataset)\n",
    "\n",
    "# Compute the variance using np.var()\n",
    "variance = np.var(dataset)\n",
    "\n",
    "# Compute the standard deviation using np.std()\n",
    "std_deviation = np.std(dataset)\n",
    "\n",
    "# Print the computed statistics\n",
    "print(\"Mean:\", mean)\n",
    "print(\"Median:\", median)\n",
    "print(\"Variance:\", variance)\n",
    "print(\"Standard Deviation:\", std_deviation)\n"
   ]
  },
  {
   "cell_type": "code",
   "execution_count": 2,
   "id": "a38200d9-4d2e-469e-b20b-37477d1ed7c9",
   "metadata": {},
   "outputs": [
    {
     "name": "stdout",
     "output_type": "stream",
     "text": [
      "25th percentile: 28.0\n",
      "75th percentile: 76.75\n"
     ]
    }
   ],
   "source": [
    "# Generate an array of 50 random numbers between 1 and 100. Find the 25th and 75th percentiles of the dataset.\n",
    "\n",
    "import numpy as np\n",
    "\n",
    "# Generate an array of 50 random numbers between 1 and 100\n",
    "dataset = np.random.randint(1, 101, size=50)\n",
    "\n",
    "# Find the 25th percentile using np.percentile()\n",
    "percentile_25 = np.percentile(dataset, 25)\n",
    "\n",
    "# Find the 75th percentile using np.percentile()\n",
    "percentile_75 = np.percentile(dataset, 75)\n",
    "\n",
    "# Print the computed percentiles\n",
    "print(\"25th percentile:\", percentile_25)\n",
    "print(\"75th percentile:\", percentile_75)\n"
   ]
  },
  {
   "cell_type": "code",
   "execution_count": 3,
   "id": "4ae38648-4f9a-40d3-9071-dd0024b7f2bd",
   "metadata": {},
   "outputs": [
    {
     "name": "stdout",
     "output_type": "stream",
     "text": [
      "Correlation coefficient between the two arrays: 0.9999999999999999\n"
     ]
    }
   ],
   "source": [
    "#  Create two arrays representing two sets of variables. Compute the correlation coefficient between these\n",
    "# arrays using NumPy's `corrcoef` function .\n",
    "\n",
    "import numpy as np\n",
    "\n",
    "# Create two arrays representing two sets of variables\n",
    "set1 = np.array([1, 2, 3, 4, 5])\n",
    "set2 = np.array([2, 4, 6, 8, 10])\n",
    "\n",
    "# Compute the correlation coefficient between the two arrays using np.corrcoef()\n",
    "correlation_coefficient = np.corrcoef(set1, set2)[0, 1]\n",
    "\n",
    "# Print the computed correlation coefficient\n",
    "print(\"Correlation coefficient between the two arrays:\", correlation_coefficient)\n"
   ]
  },
  {
   "cell_type": "code",
   "execution_count": 4,
   "id": "9cf1667a-c364-45e6-a2fd-2b5ebe86966c",
   "metadata": {},
   "outputs": [
    {
     "name": "stdout",
     "output_type": "stream",
     "text": [
      "Result of matrix multiplication:\n",
      "[[ 58  64]\n",
      " [139 154]]\n"
     ]
    }
   ],
   "source": [
    "# Create two matrices and perform matrix multiplication using NumPy's `dot` function.\n",
    "\n",
    "import numpy as np\n",
    "\n",
    "# Create two matrices\n",
    "matrix1 = np.array([[1, 2, 3],\n",
    "                     [4, 5, 6]])\n",
    "\n",
    "matrix2 = np.array([[7, 8],\n",
    "                     [9, 10],\n",
    "                     [11, 12]])\n",
    "\n",
    "# Perform matrix multiplication using np.dot()\n",
    "result = np.dot(matrix1, matrix2)\n",
    "\n",
    "# Print the result\n",
    "print(\"Result of matrix multiplication:\")\n",
    "print(result)\n"
   ]
  },
  {
   "cell_type": "code",
   "execution_count": 5,
   "id": "e7320cbb-1002-410a-9cdf-c6b0f4f332db",
   "metadata": {},
   "outputs": [
    {
     "name": "stdout",
     "output_type": "stream",
     "text": [
      "Result of matrix multiplication:\n",
      "[[ 58  64]\n",
      " [139 154]]\n"
     ]
    }
   ],
   "source": [
    "# Create an array of 50 integers between 10 and 1000. Calculate the 10th, 50th (median), and 90th percentiles \n",
    "# along with the first and third quartiles .\n",
    "\n",
    "import numpy as np\n",
    "\n",
    "# Create two matrices\n",
    "matrix1 = np.array([[1, 2, 3],\n",
    "                     [4, 5, 6]])\n",
    "\n",
    "matrix2 = np.array([[7, 8],\n",
    "                     [9, 10],\n",
    "                     [11, 12]])\n",
    "\n",
    "# Perform matrix multiplication using np.dot()\n",
    "result = np.dot(matrix1, matrix2)\n",
    "\n",
    "# Print the result\n",
    "print(\"Result of matrix multiplication:\")\n",
    "print(result)\n"
   ]
  },
  {
   "cell_type": "code",
   "execution_count": 6,
   "id": "0e67f562-fa0d-4ce1-9874-051e111c3acd",
   "metadata": {},
   "outputs": [
    {
     "name": "stdout",
     "output_type": "stream",
     "text": [
      "Index of 30 : [2]\n"
     ]
    }
   ],
   "source": [
    "# Create a NumPy array of integers and find the index of a specific element.\n",
    "\n",
    "import numpy as np\n",
    "\n",
    "# Create a NumPy array of integers\n",
    "array = np.array([10, 20, 30, 40, 50])\n",
    "\n",
    "# Find the index of a specific element\n",
    "element_to_find = 30\n",
    "index = np.where(array == element_to_find)[0]\n",
    "\n",
    "# Print the index of the element\n",
    "print(\"Index of\", element_to_find, \":\", index)\n"
   ]
  },
  {
   "cell_type": "code",
   "execution_count": 7,
   "id": "83af5f98-cb3f-4801-83b5-0e6e8c3696d7",
   "metadata": {},
   "outputs": [
    {
     "name": "stdout",
     "output_type": "stream",
     "text": [
      "Sorted array in ascending order:\n",
      "[14 19 22 33 36 39 73 80 87 99]\n"
     ]
    }
   ],
   "source": [
    "# Generate a random NumPy array and sort it in ascending order.\n",
    "\n",
    "import numpy as np\n",
    "\n",
    "# Generate a random NumPy array\n",
    "random_array = np.random.randint(1, 100, size=10)\n",
    "\n",
    "# Sort the array in ascending order using np.sort()\n",
    "sorted_array = np.sort(random_array)\n",
    "\n",
    "# Print the sorted array\n",
    "print(\"Sorted array in ascending order:\")\n",
    "print(sorted_array)\n"
   ]
  },
  {
   "cell_type": "code",
   "execution_count": 8,
   "id": "d4da80c2-84b3-4d1d-b01f-9f8b56a93ef4",
   "metadata": {},
   "outputs": [
    {
     "name": "stdout",
     "output_type": "stream",
     "text": [
      "Filtered array with elements greater than 20:\n",
      "[25 42 30]\n"
     ]
    }
   ],
   "source": [
    "#  Filter elements >20  in the given NumPy array.\n",
    "#      arr = np.array([12, 25, 6, 42, 8, 30])\n",
    "\n",
    "import numpy as np\n",
    "\n",
    "# Given NumPy array\n",
    "arr = np.array([12, 25, 6, 42, 8, 30])\n",
    "\n",
    "# Filter elements greater than 20\n",
    "filtered_arr = arr[arr > 20]\n",
    "\n",
    "# Print the filtered array\n",
    "print(\"Filtered array with elements greater than 20:\")\n",
    "print(filtered_arr)\n"
   ]
  },
  {
   "cell_type": "code",
   "execution_count": 9,
   "id": "9b0fa7ec-2fe7-4d3d-984f-54c240b93e6f",
   "metadata": {},
   "outputs": [
    {
     "name": "stdout",
     "output_type": "stream",
     "text": [
      "Filtered array with elements divisible by 3:\n",
      "[12 15]\n"
     ]
    }
   ],
   "source": [
    "#  Filter elements which are divisible by 3 from a given NumPy array.\n",
    "#            arr = np.array([1, 5, 8, 12, 15])\n",
    "\n",
    "import numpy as np\n",
    "\n",
    "# Given NumPy array\n",
    "arr = np.array([1, 5, 8, 12, 15])\n",
    "\n",
    "# Filter elements divisible by 3\n",
    "filtered_arr = arr[arr % 3 == 0]\n",
    "\n",
    "# Print the filtered array\n",
    "print(\"Filtered array with elements divisible by 3:\")\n",
    "print(filtered_arr)\n"
   ]
  },
  {
   "cell_type": "code",
   "execution_count": 10,
   "id": "58e855b0-619e-4340-a466-4c907e6a04be",
   "metadata": {},
   "outputs": [
    {
     "name": "stdout",
     "output_type": "stream",
     "text": [
      "Filtered array with elements between 20 and 40 (inclusive):\n",
      "[20 30 40]\n"
     ]
    }
   ],
   "source": [
    "# Filter elements which are ≥ 20 and ≤ 40 from a given NumPy array.\n",
    "#         arr = np.array([10, 20, 30, 40, 50])\n",
    "\n",
    "import numpy as np\n",
    "\n",
    "# Given NumPy array\n",
    "arr = np.array([10, 20, 30, 40, 50])\n",
    "\n",
    "# Filter elements between 20 and 40\n",
    "filtered_arr = arr[(arr >= 20) & (arr <= 40)]\n",
    "\n",
    "# Print the filtered array\n",
    "print(\"Filtered array with elements between 20 and 40 (inclusive):\")\n",
    "print(filtered_arr)\n"
   ]
  },
  {
   "cell_type": "code",
   "execution_count": 11,
   "id": "1b000c6b-21c7-44d0-9035-580133b94536",
   "metadata": {},
   "outputs": [
    {
     "name": "stdout",
     "output_type": "stream",
     "text": [
      "Byte order of the array: =\n"
     ]
    }
   ],
   "source": [
    "#  For the given NumPy array, check its byte order using the `dtype` attribute byteorder\n",
    "#                    arr = np.array([1, 2, 3])\n",
    "\n",
    "import numpy as np\n",
    "\n",
    "# Given NumPy array\n",
    "byteorderarr = np.array([1, 2, 3])\n",
    "\n",
    "# Check the byte order using dtype attribute\n",
    "byte_order = byteorderarr.dtype.byteorder\n",
    "\n",
    "# Print the byte order\n",
    "print(\"Byte order of the array:\", byte_order)\n"
   ]
  },
  {
   "cell_type": "code",
   "execution_count": 13,
   "id": "1000003b-df2e-4b2c-8caa-04c7d571a2ac",
   "metadata": {},
   "outputs": [
    {
     "name": "stdout",
     "output_type": "stream",
     "text": [
      "Modified array after byte swapping: [16777216 33554432 50331648]\n"
     ]
    }
   ],
   "source": [
    "# For the given NumPy array, perform byte swapping in place using `byteswap()`.\n",
    "#                 arr = np.array([1, 2, 3], dtype=np.int32)\n",
    "\n",
    "import numpy as np\n",
    "\n",
    "# Given NumPy array\n",
    "arr = np.array([1, 2, 3], dtype=np.int32)\n",
    "\n",
    "# Perform byte swapping in place\n",
    "arr.byteswap(True)\n",
    "\n",
    "# Print the modified array after byte swapping\n",
    "print(\"Modified array after byte swapping:\", arr)\n",
    "\n"
   ]
  },
  {
   "cell_type": "code",
   "execution_count": 14,
   "id": "f5efdd5c-8595-4b19-85bd-e1cb662b3e9a",
   "metadata": {},
   "outputs": [
    {
     "name": "stdout",
     "output_type": "stream",
     "text": [
      "Original array: [1 2 3]\n",
      "Array with swapped byte order: [16777216 33554432 50331648]\n"
     ]
    }
   ],
   "source": [
    "#  For the given NumPy array, swap its byte order without modifying the original array using `newbyteorder()`.\n",
    "#                       arr = np.array([1, 2, 3], dtype=np.int32)\n",
    "\n",
    "import numpy as np\n",
    "\n",
    "# Given NumPy array\n",
    "arr = np.array([1, 2, 3], dtype=np.int32)\n",
    "\n",
    "# Swap byte order without modifying the original array\n",
    "arr_swapped = arr.newbyteorder()\n",
    "\n",
    "# Print the array with swapped byte order\n",
    "print(\"Original array:\", arr)\n",
    "print(\"Array with swapped byte order:\", arr_swapped)\n"
   ]
  },
  {
   "cell_type": "code",
   "execution_count": 15,
   "id": "2499d458-a200-423b-a464-54555295cdbf",
   "metadata": {},
   "outputs": [
    {
     "name": "stdout",
     "output_type": "stream",
     "text": [
      "Original array: [1 2 3]\n",
      "Array with swapped byte order based on system endianness: [1 2 3]\n"
     ]
    }
   ],
   "source": [
    "# For the given NumPy array and swap its byte order conditionally based on system endianness using `newbyteorder()`.\n",
    "#                        arr = np.array([1, 2, 3], dtype=np.int32)\n",
    "\n",
    "import numpy as np\n",
    "import sys\n",
    "\n",
    "# Given NumPy array\n",
    "arr = np.array([1, 2, 3], dtype=np.int32)\n",
    "\n",
    "# Get the system endianness\n",
    "system_endianness = sys.byteorder\n",
    "\n",
    "# Swap byte order conditionally based on system endianness\n",
    "arr_swapped = arr.newbyteorder(system_endianness)\n",
    "\n",
    "# Print the array with swapped byte order\n",
    "print(\"Original array:\", arr)\n",
    "print(\"Array with swapped byte order based on system endianness:\", arr_swapped)\n"
   ]
  },
  {
   "cell_type": "code",
   "execution_count": 16,
   "id": "b20c05d0-1328-4a6f-803d-c87a31cdab21",
   "metadata": {},
   "outputs": [
    {
     "name": "stdout",
     "output_type": "stream",
     "text": [
      "Byte swapping is not necessary for the current system.\n"
     ]
    }
   ],
   "source": [
    "#  For the given NumPy array, check if byte swapping is necessary for the current system using `dtype` attribute\n",
    "# `byteorder`.\n",
    "#                         arr = np.array([1, 2, 3], dtype=np.int32)\n",
    "\n",
    "import numpy as np\n",
    "\n",
    "# Given NumPy array\n",
    "arr = np.array([1, 2, 3], dtype=np.int32)\n",
    "\n",
    "# Check if byte swapping is necessary based on system endianness\n",
    "byte_order = arr.dtype.byteorder\n",
    "\n",
    "if byte_order == '=':\n",
    "    print(\"Byte swapping is not necessary for the current system.\")\n",
    "else:\n",
    "    print(\"Byte swapping is necessary for the current system.\")\n"
   ]
  },
  {
   "cell_type": "code",
   "execution_count": 17,
   "id": "b7c2ef0a-8ddc-4158-9bd4-5fd2c8b4ea64",
   "metadata": {},
   "outputs": [
    {
     "name": "stdout",
     "output_type": "stream",
     "text": [
      "Original arr1: [ 1  2  3  4  5  6  7  8  9 10]\n",
      "Modified copy_arr: [100   2   3   4   5   6   7   8   9  10]\n"
     ]
    }
   ],
   "source": [
    "#  Create a NumPy array `arr1` with values from 1 to 10. Create a copy of `arr1` named `copy_arr` and modify\n",
    "# an element in `copy_arr`. Check if modifying `copy_arr` affects `arr1`.\n",
    "\n",
    "import numpy as np\n",
    "\n",
    "# Create NumPy array arr1 with values from 1 to 10\n",
    "arr1 = np.arange(1, 11)\n",
    "\n",
    "# Create a copy of arr1 named copy_arr\n",
    "copy_arr = arr1.copy()\n",
    "\n",
    "# Modify an element in copy_arr\n",
    "copy_arr[0] = 100\n",
    "\n",
    "# Check if modifying copy_arr affects arr1\n",
    "print(\"Original arr1:\", arr1)\n",
    "print(\"Modified copy_arr:\", copy_arr)\n"
   ]
  },
  {
   "cell_type": "code",
   "execution_count": 18,
   "id": "49b75ce0-d76d-4de2-940f-4f12d622da6f",
   "metadata": {},
   "outputs": [
    {
     "name": "stdout",
     "output_type": "stream",
     "text": [
      "Original matrix:\n",
      "[[100   5   2]\n",
      " [  6   9   6]\n",
      " [  5   9   2]]\n",
      "\n",
      "Modified view_slice:\n",
      "[[100   5]\n",
      " [  6   9]]\n"
     ]
    }
   ],
   "source": [
    "# Create a 2D NumPy array `matrix` of shape (3, 3) with random integers. Extract a slice `view_slice` from\n",
    "# the matrix. Modify an element in `view_slice` and observe if it changes the original `matrix`.\n",
    "\n",
    "import numpy as np\n",
    "\n",
    "# Create a 2D NumPy array matrix of shape (3, 3) with random integers\n",
    "matrix = np.random.randint(1, 10, size=(3, 3))\n",
    "\n",
    "# Extract a slice view_slice from the matrix\n",
    "view_slice = matrix[:2, :2]\n",
    "\n",
    "# Modify an element in view_slice\n",
    "view_slice[0, 0] = 100\n",
    "\n",
    "# Check if modifying view_slice changes the original matrix\n",
    "print(\"Original matrix:\")\n",
    "print(matrix)\n",
    "\n",
    "print(\"\\nModified view_slice:\")\n",
    "print(view_slice)\n"
   ]
  },
  {
   "cell_type": "code",
   "execution_count": 19,
   "id": "8e07dd80-14be-4cd2-a8f0-815ba7179244",
   "metadata": {},
   "outputs": [
    {
     "name": "stdout",
     "output_type": "stream",
     "text": [
      "Original array_a:\n",
      "[[ 6  7  3]\n",
      " [ 9 10  6]\n",
      " [ 7  8  9]\n",
      " [10 11 12]]\n",
      "\n",
      "Modified view_b:\n",
      "[[ 6  7]\n",
      " [ 9 10]]\n"
     ]
    }
   ],
   "source": [
    "#  Create a NumPy array `array_a` of shape (4, 3) with sequential integers from 1 to 12. Extract a slice\n",
    "# `view_b` from `array_a` and broadcast the addition of 5 to view_b. Check if it alters the original `array_a`.\n",
    "\n",
    "import numpy as np\n",
    "\n",
    "# Create a NumPy array array_a of shape (4, 3) with sequential integers from 1 to 12\n",
    "array_a = np.arange(1, 13).reshape(4, 3)\n",
    "\n",
    "# Extract a slice view_b from array_a\n",
    "view_b = array_a[:2, :2]\n",
    "\n",
    "# Broadcast the addition of 5 to view_b\n",
    "view_b += 5\n",
    "\n",
    "# Check if it alters the original array_a\n",
    "print(\"Original array_a:\")\n",
    "print(array_a)\n",
    "\n",
    "print(\"\\nModified view_b:\")\n",
    "print(view_b)\n"
   ]
  },
  {
   "cell_type": "code",
   "execution_count": 20,
   "id": "bac3a21d-ee34-4305-ad9e-883cb1fab6d8",
   "metadata": {},
   "outputs": [
    {
     "name": "stdout",
     "output_type": "stream",
     "text": [
      "Original orig_array:\n",
      "[[100   2   3   4]\n",
      " [  5   6   7   8]]\n",
      "\n",
      "Modified reshaped_view:\n",
      "[[100   5]\n",
      " [  2   6]\n",
      " [  3   7]\n",
      " [  4   8]]\n"
     ]
    }
   ],
   "source": [
    "# Create a NumPy array `orig_array` of shape (2, 4) with values from 1 to 8. Create a reshaped view\n",
    "# `reshaped_view` of shape (4, 2) from orig_array. Modify an element in `reshaped_view` and check if it\n",
    "# reflects changes in the original `orig_array`.\n",
    "\n",
    "import numpy as np\n",
    "\n",
    "# Create a NumPy array orig_array of shape (2, 4) with values from 1 to 8\n",
    "orig_array = np.arange(1, 9).reshape(2, 4)\n",
    "\n",
    "# Create a reshaped view reshaped_view of shape (4, 2) from orig_array\n",
    "reshaped_view = orig_array.T.reshape(4, 2)\n",
    "\n",
    "# Modify an element in reshaped_view\n",
    "reshaped_view[0, 0] = 100\n",
    "\n",
    "# Check if it reflects changes in the original orig_array\n",
    "print(\"Original orig_array:\")\n",
    "print(orig_array)\n",
    "\n",
    "print(\"\\nModified reshaped_view:\")\n",
    "print(reshaped_view)\n"
   ]
  },
  {
   "cell_type": "code",
   "execution_count": 22,
   "id": "9b0f73e7-f3a8-4ff1-b662-fddff295ec73",
   "metadata": {},
   "outputs": [
    {
     "name": "stdout",
     "output_type": "stream",
     "text": [
      "Original data:\n",
      "[[5 7 4 6]\n",
      " [4 8 8 8]\n",
      " [7 4 5 6]]\n",
      "\n",
      "Modified data_copy:\n",
      "[100   6   8   8   8   7   6]\n"
     ]
    }
   ],
   "source": [
    "# Create a NumPy array `data` of shape (3, 4) with random integers. Extract a copy `data_copy` of\n",
    "# elements greater than 5. Modify an element in `data_copy` and verify if it affects the original `data`.\n",
    "\n",
    "import numpy as np\n",
    "\n",
    "# Create a NumPy array data of shape (3, 4) with random integers\n",
    "data = np.random.randint(1, 10, size=(3, 4))\n",
    "\n",
    "# Extract a copy data_copy of elements greater than 5\n",
    "data_copy = data[data > 5].copy()\n",
    "\n",
    "# Modify an element in data_copy\n",
    "data_copy[0] = 100\n",
    "\n",
    "# Verify if it affects the original data\n",
    "print(\"Original data:\")\n",
    "print(data)\n",
    "\n",
    "print(\"\\nModified data_copy:\")\n",
    "print(data_copy)\n"
   ]
  },
  {
   "cell_type": "code",
   "execution_count": 23,
   "id": "b2a27f25-95d7-4b26-94fc-efe52a6db2d4",
   "metadata": {},
   "outputs": [
    {
     "name": "stdout",
     "output_type": "stream",
     "text": [
      "Matrix A:\n",
      "[[1 2 3]\n",
      " [4 5 6]]\n",
      "\n",
      "Matrix B:\n",
      "[[ 7  8  9]\n",
      " [10 11 12]]\n",
      "\n",
      "Addition Result (A + B):\n",
      "[[ 8 10 12]\n",
      " [14 16 18]]\n",
      "\n",
      "Subtraction Result (A - B):\n",
      "[[-6 -6 -6]\n",
      " [-6 -6 -6]]\n"
     ]
    }
   ],
   "source": [
    "# Create two matrices A and B of identical shape containing integers and perform addition and subtraction\n",
    "# operations between them.\n",
    "\n",
    "import numpy as np\n",
    "\n",
    "# Create matrices A and B of identical shape containing integers\n",
    "A = np.array([[1, 2, 3],\n",
    "              [4, 5, 6]])\n",
    "\n",
    "B = np.array([[7, 8, 9],\n",
    "              [10, 11, 12]])\n",
    "\n",
    "# Perform addition operation between A and B\n",
    "addition_result = A + B\n",
    "\n",
    "# Perform subtraction operation between A and B\n",
    "subtraction_result = A - B\n",
    "\n",
    "# Display the results\n",
    "print(\"Matrix A:\")\n",
    "print(A)\n",
    "\n",
    "print(\"\\nMatrix B:\")\n",
    "print(B)\n",
    "\n",
    "print(\"\\nAddition Result (A + B):\")\n",
    "print(addition_result)\n",
    "\n",
    "print(\"\\nSubtraction Result (A - B):\")\n",
    "print(subtraction_result)\n"
   ]
  },
  {
   "cell_type": "code",
   "execution_count": 24,
   "id": "309724f8-7fdc-4cdb-b044-2da77197a61a",
   "metadata": {},
   "outputs": [
    {
     "name": "stdout",
     "output_type": "stream",
     "text": [
      "Matrix C:\n",
      "[[1 2]\n",
      " [3 4]\n",
      " [5 6]]\n",
      "\n",
      "Matrix D:\n",
      "[[ 7  8  9 10]\n",
      " [11 12 13 14]]\n",
      "\n",
      "Matrix Multiplication (C x D):\n",
      "[[ 29  32  35  38]\n",
      " [ 65  72  79  86]\n",
      " [101 112 123 134]]\n"
     ]
    }
   ],
   "source": [
    "# Generate two matrices `C` (3x2) and `D` (2x4) and perform matrix multiplication.\n",
    "\n",
    "import numpy as np\n",
    "\n",
    "# Generate matrix C (3x2) and matrix D (2x4)\n",
    "C = np.array([[1, 2],\n",
    "              [3, 4],\n",
    "              [5, 6]])\n",
    "\n",
    "D = np.array([[7, 8, 9, 10],\n",
    "              [11, 12, 13, 14]])\n",
    "\n",
    "# Perform matrix multiplication\n",
    "multiplication_result = np.dot(C, D)\n",
    "\n",
    "# Display the result\n",
    "print(\"Matrix C:\")\n",
    "print(C)\n",
    "\n",
    "print(\"\\nMatrix D:\")\n",
    "print(D)\n",
    "\n",
    "print(\"\\nMatrix Multiplication (C x D):\")\n",
    "print(multiplication_result)\n"
   ]
  },
  {
   "cell_type": "code",
   "execution_count": 25,
   "id": "4f5e5659-4f11-4f2c-b9a6-e3f46db340e5",
   "metadata": {},
   "outputs": [
    {
     "name": "stdout",
     "output_type": "stream",
     "text": [
      "Matrix E:\n",
      "[[1 2 3]\n",
      " [4 5 6]]\n",
      "\n",
      "Transpose of Matrix E:\n",
      "[[1 4]\n",
      " [2 5]\n",
      " [3 6]]\n"
     ]
    }
   ],
   "source": [
    "# Create a matrix `E` and find its transpose.\n",
    "\n",
    "import numpy as np\n",
    "\n",
    "# Create matrix E\n",
    "E = np.array([[1, 2, 3],\n",
    "              [4, 5, 6]])\n",
    "\n",
    "# Find the transpose of matrix E\n",
    "transpose_E = np.transpose(E)\n",
    "\n",
    "# Display the original matrix E and its transpose\n",
    "print(\"Matrix E:\")\n",
    "print(E)\n",
    "\n",
    "print(\"\\nTranspose of Matrix E:\")\n",
    "print(transpose_E)\n"
   ]
  },
  {
   "cell_type": "code",
   "execution_count": 26,
   "id": "979912eb-5a67-4aaa-83d3-c1a41c5bcf13",
   "metadata": {},
   "outputs": [
    {
     "name": "stdout",
     "output_type": "stream",
     "text": [
      "Matrix F:\n",
      "[[1 2 3]\n",
      " [4 5 6]\n",
      " [7 8 9]]\n",
      "\n",
      "Determinant of Matrix F: 0.0\n"
     ]
    }
   ],
   "source": [
    "# Generate a square matrix `F` and compute its determinant.\n",
    "\n",
    "import numpy as np\n",
    "\n",
    "# Generate a square matrix F\n",
    "F = np.array([[1, 2, 3],\n",
    "              [4, 5, 6],\n",
    "              [7, 8, 9]])\n",
    "\n",
    "# Compute the determinant of matrix F\n",
    "determinant_F = np.linalg.det(F)\n",
    "\n",
    "# Display the original matrix F and its determinant\n",
    "print(\"Matrix F:\")\n",
    "print(F)\n",
    "\n",
    "print(\"\\nDeterminant of Matrix F:\", determinant_F)\n"
   ]
  },
  {
   "cell_type": "code",
   "execution_count": 28,
   "id": "59b4449b-4c10-45b3-8622-11d5847becc0",
   "metadata": {},
   "outputs": [
    {
     "name": "stdout",
     "output_type": "stream",
     "text": [
      "Matrix G:\n",
      "[[1 2]\n",
      " [3 4]]\n",
      "\n",
      "Inverse of Matrix G:\n",
      "[[-2.   1. ]\n",
      " [ 1.5 -0.5]]\n"
     ]
    }
   ],
   "source": [
    "# Create a square matrix `G` and find its inverse.\n",
    "\n",
    "import numpy as np\n",
    "\n",
    "# Create a square matrix G\n",
    "G = np.array([[1, 2],\n",
    "              [3, 4]])\n",
    "\n",
    "# Find the inverse of matrix G\n",
    "inverse_G = np.linalg.inv(G)\n",
    "\n",
    "# Display the original matrix G and its inverse\n",
    "print(\"Matrix G:\")\n",
    "print(G)\n",
    "\n",
    "print(\"\\nInverse of Matrix G:\")\n",
    "print(inverse_G)\n"
   ]
  }
 ],
 "metadata": {
  "kernelspec": {
   "display_name": "Python 3 (ipykernel)",
   "language": "python",
   "name": "python3"
  },
  "language_info": {
   "codemirror_mode": {
    "name": "ipython",
    "version": 3
   },
   "file_extension": ".py",
   "mimetype": "text/x-python",
   "name": "python",
   "nbconvert_exporter": "python",
   "pygments_lexer": "ipython3",
   "version": "3.10.8"
  }
 },
 "nbformat": 4,
 "nbformat_minor": 5
}
