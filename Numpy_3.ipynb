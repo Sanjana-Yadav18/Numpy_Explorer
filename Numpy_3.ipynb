{
 "cells": [
  {
   "cell_type": "code",
   "execution_count": 1,
   "id": "d55c6ef3-9ae6-4187-ab31-778e3b866798",
   "metadata": {},
   "outputs": [
    {
     "name": "stdout",
     "output_type": "stream",
     "text": [
      "Column-wise mean:\n",
      "[2.5 3.5 4.5]\n"
     ]
    }
   ],
   "source": [
    "#  Calculate column wise mean for the given array:\n",
    "#       arr = np.array([[1, 2, 3], [4, 5, 6]])\n",
    "\n",
    "import numpy as np\n",
    "\n",
    "# Given array\n",
    "arr = np.array([[1, 2, 3],\n",
    "                [4, 5, 6]])\n",
    "\n",
    "# Calculate column-wise mean\n",
    "column_means = np.mean(arr, axis=0)\n",
    "\n",
    "print(\"Column-wise mean:\")\n",
    "print(column_means)\n"
   ]
  },
  {
   "cell_type": "code",
   "execution_count": 1,
   "id": "f305c549-d0eb-41bc-a4c9-44077ccae2e1",
   "metadata": {},
   "outputs": [
    {
     "name": "stdout",
     "output_type": "stream",
     "text": [
      "Maximum value in each row:\n",
      "[3 6]\n"
     ]
    }
   ],
   "source": [
    "#  Find maximum value in each row of the given array:\n",
    "#      arr = np.array([[1, 2, 3], [4, 5, 6]])\n",
    "\n",
    "import numpy as np\n",
    "\n",
    "# Given array\n",
    "arr = np.array([[1, 2, 3],\n",
    "                [4, 5, 6]])\n",
    "\n",
    "# Find maximum value in each row\n",
    "row_max_values = np.max(arr, axis=1)\n",
    "\n",
    "print(\"Maximum value in each row:\")\n",
    "print(row_max_values)\n"
   ]
  },
  {
   "cell_type": "code",
   "execution_count": 2,
   "id": "d26f6f42-e512-4fdf-9211-7ecc25487d0f",
   "metadata": {},
   "outputs": [
    {
     "name": "stdout",
     "output_type": "stream",
     "text": [
      "Indices of maximum value in each column:\n",
      "[1 1 1]\n"
     ]
    }
   ],
   "source": [
    "# For the given array, find indices of maximum value in each column.\n",
    "#      arr = np.array([[1, 2, 3], [4, 5, 6]])\n",
    "\n",
    "import numpy as np\n",
    "\n",
    "# Given array\n",
    "arr = np.array([[1, 2, 3],\n",
    "                [4, 5, 6]])\n",
    "\n",
    "# Find indices of maximum value in each column\n",
    "column_max_indices = np.argmax(arr, axis=0)\n",
    "\n",
    "print(\"Indices of maximum value in each column:\")\n",
    "print(column_max_indices)\n"
   ]
  },
  {
   "cell_type": "code",
   "execution_count": 3,
   "id": "40403cf5-7393-4582-a5d1-eb406701fa0b",
   "metadata": {},
   "outputs": [
    {
     "name": "stdout",
     "output_type": "stream",
     "text": [
      "Moving sum along rows:\n",
      "[[ 6.]\n",
      " [15.]]\n"
     ]
    }
   ],
   "source": [
    "# For the given array, apply custom function to calculate moving sum along rows.\n",
    "#       arr = np.array([[1, 2, 3], [4, 5, 6]])\n",
    "\n",
    "import numpy as np\n",
    "\n",
    "# Given array\n",
    "arr = np.array([[1, 2, 3],\n",
    "                [4, 5, 6]])\n",
    "\n",
    "# Custom function to calculate moving sum along rows\n",
    "def moving_sum(row):\n",
    "    return np.convolve(row, np.ones(3), mode='valid')\n",
    "\n",
    "# Apply the custom function along rows\n",
    "moving_sum_result = np.apply_along_axis(moving_sum, axis=1, arr=arr)\n",
    "\n",
    "print(\"Moving sum along rows:\")\n",
    "print(moving_sum_result)\n"
   ]
  },
  {
   "cell_type": "code",
   "execution_count": 4,
   "id": "965cbc8f-e628-45ce-91e7-42f2ced3610d",
   "metadata": {},
   "outputs": [
    {
     "name": "stdout",
     "output_type": "stream",
     "text": [
      "Are all elements in each column even?\n",
      "[False False False]\n"
     ]
    }
   ],
   "source": [
    "#  In the given array, check if all elements in each column are even.\n",
    "#           arr = np.array([[2, 4, 6], [3, 5, 7]])\n",
    "\n",
    "import numpy as np\n",
    "\n",
    "# Given array\n",
    "arr = np.array([[2, 4, 6],\n",
    "                [3, 5, 7]])\n",
    "\n",
    "# Check if all elements in each column are even\n",
    "column_even = np.all(arr % 2 == 0, axis=0)\n",
    "\n",
    "print(\"Are all elements in each column even?\")\n",
    "print(column_even)\n"
   ]
  },
  {
   "cell_type": "code",
   "execution_count": 5,
   "id": "0175284c-2651-4beb-9c2f-c8f93bbe8cec",
   "metadata": {},
   "outputs": [
    {
     "name": "stdout",
     "output_type": "stream",
     "text": [
      "Reshaped matrix:\n",
      "[[1 2 3]\n",
      " [4 5 6]]\n"
     ]
    }
   ],
   "source": [
    "#  Given a NumPy array arr, reshape it into a matrix of dimensions `m` rows and `n` columns. Return the reshaped matrix.\n",
    "#         original_array = np.array([1, 2, 3, 4, 5, 6])\n",
    "\n",
    "import numpy as np\n",
    "\n",
    "# Given original array\n",
    "original_array = np.array([1, 2, 3, 4, 5, 6])\n",
    "\n",
    "# Define the desired dimensions for the reshaped matrix\n",
    "m = 2  # Number of rows\n",
    "n = 3  # Number of columns\n",
    "\n",
    "# Reshape the original array into a matrix of dimensions m rows and n columns\n",
    "reshaped_matrix = original_array.reshape(m, n)\n",
    "\n",
    "print(\"Reshaped matrix:\")\n",
    "print(reshaped_matrix)\n",
    "\n",
    "\n",
    "\n",
    "\n"
   ]
  },
  {
   "cell_type": "code",
   "execution_count": 6,
   "id": "4a13d93f-1af6-447e-854f-c440fd8b42bb",
   "metadata": {},
   "outputs": [
    {
     "name": "stdout",
     "output_type": "stream",
     "text": [
      "Flattened array:\n",
      "[1 2 3 4 5 6]\n"
     ]
    }
   ],
   "source": [
    "# Create a function that takes a matrix as input and returns the flattened array.\n",
    "#        input_matrix = np.array([[1, 2, 3], [4, 5, 6]])\n",
    "\n",
    "import numpy as np\n",
    "\n",
    "def flatten_matrix(input_matrix):\n",
    "    \"\"\"\n",
    "    Function to flatten a matrix into a 1D array.\n",
    "    \n",
    "    Parameters:\n",
    "        input_matrix (numpy.ndarray): Input matrix.\n",
    "        \n",
    "    Returns:\n",
    "        numpy.ndarray: Flattened array.\n",
    "    \"\"\"\n",
    "    # Flatten the input matrix\n",
    "    flattened_array = input_matrix.flatten()\n",
    "    \n",
    "    return flattened_array\n",
    "\n",
    "# Given input matrix\n",
    "input_matrix = np.array([[1, 2, 3], [4, 5, 6]])\n",
    "\n",
    "# Call the function and print the flattened array\n",
    "flattened_array = flatten_matrix(input_matrix)\n",
    "print(\"Flattened array:\")\n",
    "print(flattened_array)\n"
   ]
  },
  {
   "cell_type": "code",
   "execution_count": 7,
   "id": "33d0f645-3e69-482b-bd86-c8ae8b2f8f9f",
   "metadata": {},
   "outputs": [
    {
     "name": "stdout",
     "output_type": "stream",
     "text": [
      "Concatenated array along axis 0:\n",
      "[[1 2]\n",
      " [3 4]\n",
      " [5 6]\n",
      " [7 8]]\n",
      "\n",
      "Concatenated array along axis 1:\n",
      "[[1 2 5 6]\n",
      " [3 4 7 8]]\n"
     ]
    }
   ],
   "source": [
    "# Write a function that concatenates two given arrays along a specified axis.\n",
    "#                array1 = np.array([[1, 2], [3, 4]])\n",
    "#                array2 = np.array([[5, 6], [7, 8]])\n",
    "\n",
    "import numpy as np\n",
    "\n",
    "def concatenate_arrays(array1, array2, axis=0):\n",
    "    \"\"\"\n",
    "    Function to concatenate two arrays along a specified axis.\n",
    "    \n",
    "    Parameters:\n",
    "        array1 (numpy.ndarray): First array.\n",
    "        array2 (numpy.ndarray): Second array.\n",
    "        axis (int, optional): Axis along which arrays will be concatenated. Default is 0.\n",
    "        \n",
    "    Returns:\n",
    "        numpy.ndarray: Concatenated array.\n",
    "    \"\"\"\n",
    "    concatenated_array = np.concatenate((array1, array2), axis=axis)\n",
    "    return concatenated_array\n",
    "\n",
    "# Given arrays\n",
    "array1 = np.array([[1, 2], [3, 4]])\n",
    "array2 = np.array([[5, 6], [7, 8]])\n",
    "\n",
    "# Call the function and print the concatenated array along axis 0\n",
    "concatenated_array_axis0 = concatenate_arrays(array1, array2, axis=0)\n",
    "print(\"Concatenated array along axis 0:\")\n",
    "print(concatenated_array_axis0)\n",
    "\n",
    "# Call the function and print the concatenated array along axis 1\n",
    "concatenated_array_axis1 = concatenate_arrays(array1, array2, axis=1)\n",
    "print(\"\\nConcatenated array along axis 1:\")\n",
    "print(concatenated_array_axis1)\n"
   ]
  },
  {
   "cell_type": "code",
   "execution_count": 1,
   "id": "68f533e7-1ce6-4a9f-adca-efe5b7f6470a",
   "metadata": {},
   "outputs": [
    {
     "name": "stdout",
     "output_type": "stream",
     "text": [
      "List of sub-arrays along axis 0:\n",
      "[[1 2 3]]\n",
      "[[4 5 6]]\n",
      "[[7 8 9]]\n",
      "\n",
      "List of sub-arrays along axis 1:\n",
      "[[1]\n",
      " [4]\n",
      " [7]]\n",
      "[[2]\n",
      " [5]\n",
      " [8]]\n",
      "[[3]\n",
      " [6]\n",
      " [9]]\n"
     ]
    }
   ],
   "source": [
    "#  Create a function that splits an array into multiple sub-arrays along a specified axis.\n",
    "#                   original_array = np.array([[1, 2, 3], [4, 5, 6], [7, 8, 9]])\n",
    "\n",
    "import numpy as np\n",
    "\n",
    "def split_array(original_array, axis=0):\n",
    "    \"\"\"\n",
    "    Function to split an array into multiple sub-arrays along a specified axis.\n",
    "    \n",
    "    Parameters:\n",
    "        original_array (numpy.ndarray): Original array to be split.\n",
    "        axis (int, optional): Axis along which the array will be split. Default is 0.\n",
    "        \n",
    "    Returns:\n",
    "        list: List of sub-arrays.\n",
    "    \"\"\"\n",
    "    sub_arrays = np.split(original_array, indices_or_sections=original_array.shape[axis], axis=axis)\n",
    "    return sub_arrays\n",
    "\n",
    "# Given original array\n",
    "original_array = np.array([[1, 2, 3], [4, 5, 6], [7, 8, 9]])\n",
    "\n",
    "# Call the function and print the list of sub-arrays along axis 0\n",
    "sub_arrays_axis0 = split_array(original_array, axis=0)\n",
    "print(\"List of sub-arrays along axis 0:\")\n",
    "for sub_array in sub_arrays_axis0:\n",
    "    print(sub_array)\n",
    "\n",
    "# Call the function and print the list of sub-arrays along axis 1\n",
    "sub_arrays_axis1 = split_array(original_array, axis=1)\n",
    "print(\"\\nList of sub-arrays along axis 1:\")\n",
    "for sub_array in sub_arrays_axis1:\n",
    "    print(sub_array)\n"
   ]
  },
  {
   "cell_type": "code",
   "execution_count": 2,
   "id": "fbbd0316-1391-48d0-9ece-ef7662b43ef5",
   "metadata": {},
   "outputs": [
    {
     "name": "stdout",
     "output_type": "stream",
     "text": [
      "Modified array:\n",
      "[ 1 10 11  4  5]\n"
     ]
    }
   ],
   "source": [
    "# Write a function that inserts and then deletes elements from a given array at specified indices.\n",
    "#                        original_array = np.array([1, 2, 3, 4, 5])\n",
    "#                        indices_to_insert = [2, 4]\n",
    "#                        values_to_insert = [10, 11]\n",
    "#                        indices_to_delete = [1, 3]\n",
    "\n",
    "import numpy as np\n",
    "\n",
    "def insert_and_delete_elements(original_array, indices_to_insert, values_to_insert, indices_to_delete):\n",
    "    \"\"\"\n",
    "    Function to insert and delete elements from a given array at specified indices.\n",
    "    \n",
    "    Parameters:\n",
    "        original_array (numpy.ndarray): Original array.\n",
    "        indices_to_insert (list): List of indices where elements will be inserted.\n",
    "        values_to_insert (list): List of values to insert at the specified indices.\n",
    "        indices_to_delete (list): List of indices of elements to delete.\n",
    "        \n",
    "    Returns:\n",
    "        numpy.ndarray: Modified array after insertion and deletion.\n",
    "    \"\"\"\n",
    "    # Insert elements at specified indices\n",
    "    for idx, val in zip(indices_to_insert, values_to_insert):\n",
    "        original_array = np.insert(original_array, idx, val)\n",
    "    \n",
    "    # Delete elements at specified indices\n",
    "    original_array = np.delete(original_array, indices_to_delete)\n",
    "    \n",
    "    return original_array\n",
    "\n",
    "# Given arrays and indices\n",
    "original_array = np.array([1, 2, 3, 4, 5])\n",
    "indices_to_insert = [2, 4]\n",
    "values_to_insert = [10, 11]\n",
    "indices_to_delete = [1, 3]\n",
    "\n",
    "# Call the function and print the modified array\n",
    "modified_array = insert_and_delete_elements(original_array, indices_to_insert, values_to_insert, indices_to_delete)\n",
    "print(\"Modified array:\")\n",
    "print(modified_array)\n"
   ]
  },
  {
   "cell_type": "code",
   "execution_count": 8,
   "id": "fb204023-404a-405a-be81-0bbb0037b913",
   "metadata": {},
   "outputs": [
    {
     "name": "stdout",
     "output_type": "stream",
     "text": [
      "Result of element-wise addition:\n",
      "[[27 38 18 21 96]\n",
      " [23 60 22 61  9]\n",
      " [39 95 92 97 79]\n",
      " [23 14 82 47 42]\n",
      " [71 45  5 74 84]]\n"
     ]
    }
   ],
   "source": [
    "#  Create a NumPy array `arr1` with random integers and another array `arr2` with integers from 1 to 10.\n",
    "#  Perform element-wise addition between `arr1` and `arr2`.\n",
    "\n",
    "import numpy as np\n",
    "\n",
    "# Create array arr1 with random integers\n",
    "arr1 = np.random.randint(1, 100, size=(5, 5))  # Example: 5x5 array of random integers between 1 and 100\n",
    "\n",
    "# Create array arr2 with integers from 1 to 10\n",
    "arr2 = np.random.randint(1, 11, size=(5,5))\n",
    "\n",
    "# Perform element-wise addition between arr1 and arr2\n",
    "result_array = (arr1 + arr2)\n",
    "\n",
    "# Print the result\n",
    "print(\"Result of element-wise addition:\")\n",
    "print(result_array)\n"
   ]
  },
  {
   "cell_type": "code",
   "execution_count": 9,
   "id": "cb14a38b-517c-4a10-82b4-84551954c906",
   "metadata": {},
   "outputs": [
    {
     "name": "stdout",
     "output_type": "stream",
     "text": [
      "Result of subtracting arr2 from arr1 element-wise:\n",
      "[ 9  7  5  3  1 -1 -3 -5 -7 -9]\n"
     ]
    }
   ],
   "source": [
    "# Generate a NumPy array `arr1` with sequential integers from 10 to 1 and another array `arr2` with integers\n",
    "# from 1 to 10. Subtract `arr2` from `arr1` element-wise.\n",
    "\n",
    "import numpy as np\n",
    "\n",
    "# Generate array arr1 with sequential integers from 10 to 1\n",
    "arr1 = np.arange(10, 0, -1)\n",
    "\n",
    "# Generate array arr2 with integers from 1 to 10\n",
    "arr2 = np.arange(1, 11)\n",
    "\n",
    "# Subtract arr2 from arr1 element-wise\n",
    "result = arr1 - arr2\n",
    "\n",
    "# Print the result\n",
    "print(\"Result of subtracting arr2 from arr1 element-wise:\")\n",
    "print(result)\n"
   ]
  },
  {
   "cell_type": "code",
   "execution_count": 12,
   "id": "3c66fbb8-67af-469b-bf08-2f243ae49e8e",
   "metadata": {},
   "outputs": [
    {
     "name": "stdout",
     "output_type": "stream",
     "text": [
      "Result of element-wise multiplication:\n",
      "[[ 55 132  40]\n",
      " [216  38 450]\n",
      " [ 78 244 158]]\n"
     ]
    }
   ],
   "source": [
    "#  Create a NumPy array `arr1` with random integers and another array `arr2` with integers from 1 to 5.\n",
    "# Perform element-wise multiplication between `arr1` and `arr2`.\n",
    "\n",
    "import numpy as np\n",
    "\n",
    "# Create array arr1 with random integers\n",
    "arr1 = np.random.randint(1, 100, size=(3, 3))  # Example: 3x3 array of random integers between 1 and 100\n",
    "\n",
    "# Create array arr2 with integers from 1 to 5\n",
    "arr2 = np.random.randint(1, 6, size=(3 ,3))\n",
    "\n",
    "# Perform element-wise multiplication between arr1 and arr2\n",
    "result_array = arr1 * arr2\n",
    "\n",
    "# Print the result\n",
    "print(\"Result of element-wise multiplication:\")\n",
    "print(result_array)\n"
   ]
  },
  {
   "cell_type": "code",
   "execution_count": 13,
   "id": "6a1e9838-4ec1-4f75-a513-1dc97be337cb",
   "metadata": {},
   "outputs": [
    {
     "name": "stdout",
     "output_type": "stream",
     "text": [
      "Result of element-wise division:\n",
      "[2. 2. 2. 2. 2.]\n"
     ]
    }
   ],
   "source": [
    "# Generate a NumPy array `arr1` with even integers from 2 to 10 and another array `arr2` with integers from 1\n",
    "# to 5. Perform element-wise division of `arr1` by `arr2`.\n",
    "\n",
    "import numpy as np\n",
    "\n",
    "# Generate array arr1 with even integers from 2 to 10\n",
    "arr1 = np.arange(2, 11, 2)\n",
    "\n",
    "# Create array arr2 with integers from 1 to 5\n",
    "arr2 = np.arange(1, 6)\n",
    "\n",
    "# Perform element-wise division between arr1 and arr2\n",
    "result_array = arr1 / arr2\n",
    "\n",
    "# Print the result\n",
    "print(\"Result of element-wise division:\")\n",
    "print(result_array)\n"
   ]
  },
  {
   "cell_type": "code",
   "execution_count": 15,
   "id": "d1e02f09-eccb-402a-8a92-4eab022f12f6",
   "metadata": {},
   "outputs": [
    {
     "name": "stdout",
     "output_type": "stream",
     "text": [
      "Result of exponentiation of arr1 raised to the power of arr2 element-wise:\n",
      "[ 1 16 27 16  5]\n"
     ]
    }
   ],
   "source": [
    "# Create a NumPy array `arr1` with integers from 1 to 5 and another array `arr2` with the same numbers\n",
    "# reversed. Calculate the exponentiation of `arr1` raised to the power of `arr2` element-wise.\n",
    "\n",
    "import numpy as np\n",
    "\n",
    "# Create array arr1 with integers from 1 to 5\n",
    "arr1 = np.arange(1, 6)\n",
    "\n",
    "# Create array arr2 with the same numbers reversed\n",
    "arr2 = arr1[::-1]\n",
    "\n",
    "# Calculate the exponentiation of arr1 raised to the power of arr2 element-wise\n",
    "result_array = np.power(arr1, arr2)\n",
    "\n",
    "# Print the result\n",
    "print(\"Result of exponentiation of arr1 raised to the power of arr2 element-wise:\")\n",
    "print(result_array)\n"
   ]
  },
  {
   "cell_type": "code",
   "execution_count": 16,
   "id": "1d6b1f62-9afd-4149-ba6d-8816d4a9ed73",
   "metadata": {},
   "outputs": [
    {
     "name": "stdout",
     "output_type": "stream",
     "text": [
      "Occurrences of 'hello' in the array: 3\n"
     ]
    }
   ],
   "source": [
    "#  Write a function that counts the occurrences of a specific substring within a NumPy array of strings.\n",
    "#                 arr = np.array(['hello', 'world', 'hello', 'numpy', 'hello'])\n",
    "\n",
    "import numpy as np\n",
    "\n",
    "def count_substring_occurrences(arr, substring):\n",
    "    \"\"\"\n",
    "    Count the occurrences of a specific substring within a NumPy array of strings.\n",
    "\n",
    "    Parameters:\n",
    "        arr (numpy.ndarray): NumPy array of strings.\n",
    "        substring (str): Substring to count occurrences of.\n",
    "\n",
    "    Returns:\n",
    "        int: Number of occurrences of the substring.\n",
    "    \"\"\"\n",
    "    # Count occurrences of the substring in each string\n",
    "    occurrences = np.char.count(arr, substring).sum()\n",
    "\n",
    "    return occurrences\n",
    "\n",
    "arr = np.array(['hello', 'world', 'hello', 'numpy', 'hello'])\n",
    "substring = 'hello'\n",
    "print(\"Occurrences of '{}' in the array: {}\".format(substring, count_substring_occurrences(arr, substring)))\n"
   ]
  },
  {
   "cell_type": "code",
   "execution_count": 17,
   "id": "a679955d-1a95-4389-a7ab-3b37483f4380",
   "metadata": {},
   "outputs": [
    {
     "name": "stdout",
     "output_type": "stream",
     "text": [
      "Uppercase characters in the array: HWOAIGPT\n"
     ]
    }
   ],
   "source": [
    "# Write a function that extracts uppercase characters from a NumPy array of strings.\n",
    "#               arr = np.array(['Hello', 'World', 'OpenAI', 'GPT'])\n",
    "\n",
    "import numpy as np\n",
    "\n",
    "def extract_uppercase_chars(arr):\n",
    "    \"\"\"\n",
    "    Extract uppercase characters from a NumPy array of strings.\n",
    "\n",
    "    Parameters:\n",
    "        arr (numpy.ndarray): NumPy array of strings.\n",
    "\n",
    "    Returns:\n",
    "        str: Concatenated uppercase characters extracted from the array.\n",
    "    \"\"\"\n",
    "    # Concatenate all strings in the array\n",
    "    all_strings = ''.join(arr)\n",
    "\n",
    "    # Extract uppercase characters\n",
    "    uppercase_chars = ''.join(char for char in all_strings if char.isupper())\n",
    "\n",
    "    return uppercase_chars\n",
    "\n",
    "arr = np.array(['Hello', 'World', 'OpenAI', 'GPT'])\n",
    "print(\"Uppercase characters in the array:\", extract_uppercase_chars(arr))\n"
   ]
  },
  {
   "cell_type": "code",
   "execution_count": 18,
   "id": "462dcb17-c18b-4adb-9619-51b31c1f2f06",
   "metadata": {},
   "outputs": [
    {
     "name": "stdout",
     "output_type": "stream",
     "text": [
      "Original array: ['apple' 'banana' 'grape' 'pineapple']\n",
      "Array with replaced substring: ['orange' 'banana' 'grape' 'pineorange']\n"
     ]
    }
   ],
   "source": [
    "#  Write a function that replaces occurrences of a substring in a NumPy array of strings with a new string.\n",
    "#                     arr = np.array(['apple', 'banana', 'grape', 'pineapple'])\n",
    "\n",
    "import numpy as np\n",
    "\n",
    "def replace_substring(arr, old_substring, new_substring):\n",
    "    \"\"\"\n",
    "    Replace occurrences of a substring in a NumPy array of strings with a new string.\n",
    "\n",
    "    Parameters:\n",
    "        arr (numpy.ndarray): NumPy array of strings.\n",
    "        old_substring (str): Substring to be replaced.\n",
    "        new_substring (str): New substring to replace the old substring.\n",
    "\n",
    "    Returns:\n",
    "        numpy.ndarray: NumPy array with replaced substrings.\n",
    "    \"\"\"\n",
    "    # Use np.char.replace() to replace occurrences of old_substring with new_substring\n",
    "    replaced_array = np.char.replace(arr, old_substring, new_substring)\n",
    "\n",
    "    return replaced_array\n",
    "\n",
    "arr = np.array(['apple', 'banana', 'grape', 'pineapple'])\n",
    "old_substring = 'apple'\n",
    "new_substring = 'orange'\n",
    "print(\"Original array:\", arr)\n",
    "print(\"Array with replaced substring:\", replace_substring(arr, old_substring, new_substring))\n"
   ]
  },
  {
   "cell_type": "code",
   "execution_count": 19,
   "id": "e221eae7-e42a-4b2a-aeac-521d3be87faa",
   "metadata": {},
   "outputs": [
    {
     "name": "stdout",
     "output_type": "stream",
     "text": [
      "Concatenated array: ['HelloOpen' 'WorldAI']\n"
     ]
    }
   ],
   "source": [
    "# Write a function that concatenates strings in a NumPy array element-wise.\n",
    "#                          arr1 = np.array(['Hello', 'World'])\n",
    "#                          arr2 = np.array(['Open', 'AI'])\n",
    "\n",
    "import numpy as np\n",
    "\n",
    "def concatenate_strings(arr1, arr2):\n",
    "    \"\"\"\n",
    "    Concatenate strings in two NumPy arrays element-wise.\n",
    "\n",
    "    Parameters:\n",
    "        arr1 (numpy.ndarray): First NumPy array of strings.\n",
    "        arr2 (numpy.ndarray): Second NumPy array of strings.\n",
    "\n",
    "    Returns:\n",
    "        numpy.ndarray: NumPy array with concatenated strings.\n",
    "    \"\"\"\n",
    "    # Use np.char.add() to concatenate strings element-wise\n",
    "    concatenated_array = np.char.add(arr1, arr2)\n",
    "\n",
    "    return concatenated_array\n",
    "\n",
    "arr1 = np.array(['Hello', 'World'])\n",
    "arr2 = np.array(['Open', 'AI'])\n",
    "print(\"Concatenated array:\", concatenate_strings(arr1, arr2))\n"
   ]
  },
  {
   "cell_type": "code",
   "execution_count": 20,
   "id": "62da2e56-c940-45c3-b4d3-5d0875cd26df",
   "metadata": {},
   "outputs": [
    {
     "name": "stdout",
     "output_type": "stream",
     "text": [
      "Length of the longest string: 9\n"
     ]
    }
   ],
   "source": [
    "# Write a function that finds the length of the longest string in a NumPy array.\n",
    "#               arr = np.array(['apple', 'banana', 'grape', 'pineapple'])\n",
    "\n",
    "import numpy as np\n",
    "\n",
    "def longest_string_length(arr):\n",
    "    \"\"\"\n",
    "    Find the length of the longest string in a NumPy array.\n",
    "\n",
    "    Parameters:\n",
    "        arr (numpy.ndarray): NumPy array of strings.\n",
    "\n",
    "    Returns:\n",
    "        int: Length of the longest string.\n",
    "    \"\"\"\n",
    "    # Use np.char.str_len() to find the lengths of all strings in the array\n",
    "    string_lengths = np.char.str_len(arr)\n",
    "\n",
    "    # Find the maximum length among the strings\n",
    "    max_length = np.max(string_lengths)\n",
    "\n",
    "    return max_length\n",
    "\n",
    "arr = np.array(['apple', 'banana', 'grape', 'pineapple'])\n",
    "print(\"Length of the longest string:\", longest_string_length(arr))\n"
   ]
  }
 ],
 "metadata": {
  "kernelspec": {
   "display_name": "Python 3 (ipykernel)",
   "language": "python",
   "name": "python3"
  },
  "language_info": {
   "codemirror_mode": {
    "name": "ipython",
    "version": 3
   },
   "file_extension": ".py",
   "mimetype": "text/x-python",
   "name": "python",
   "nbconvert_exporter": "python",
   "pygments_lexer": "ipython3",
   "version": "3.10.8"
  }
 },
 "nbformat": 4,
 "nbformat_minor": 5
}
