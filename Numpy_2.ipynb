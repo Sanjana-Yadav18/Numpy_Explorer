{
 "cells": [
  {
   "cell_type": "code",
   "execution_count": 1,
   "id": "c6d3b3d1-2225-49f8-a8fc-bb7172d37658",
   "metadata": {},
   "outputs": [
    {
     "name": "stdout",
     "output_type": "stream",
     "text": [
      "NumPy array of integers within the range 1 to 10 with step size 2 :\n",
      " [1 3 5 7 9]\n"
     ]
    }
   ],
   "source": [
    "#  Write a Python function using NumPy to create an array of integers within a specified range (inclusive)\n",
    "# with a given step size.\n",
    "\n",
    "import numpy as np\n",
    "\n",
    "def create_integer_array(start, stop, step):\n",
    "    \"\"\"\n",
    "    Creates a NumPy array of integers within a specified range (inclusive) with a given step size.\n",
    "    \n",
    "    Parameters:\n",
    "        start (int): Starting value of the range.\n",
    "        stop (int): Ending value of the range (inclusive).\n",
    "        step (int): Step size between each value in the range.\n",
    "    \n",
    "    Returns:\n",
    "        numpy.ndarray: NumPy array containing the integers within the specified range.\n",
    "    \"\"\"\n",
    "    return np.arange(start, stop+1, step, dtype=int)\n",
    "\n",
    "start = 1\n",
    "stop = 10\n",
    "step = 2\n",
    "integer_array = create_integer_array(start, stop, step)\n",
    "print(\"NumPy array of integers within the range\", start, \"to\", stop, \"with step size\", step, \":\\n\", integer_array)\n"
   ]
  },
  {
   "cell_type": "code",
   "execution_count": 2,
   "id": "7a2dbed6-6b4a-4759-bcd7-b2654cad88c4",
   "metadata": {},
   "outputs": [
    {
     "name": "stdout",
     "output_type": "stream",
     "text": [
      "NumPy array of 10 equally spaced values between 0 and 1 (inclusive):\n",
      " [0.         0.11111111 0.22222222 0.33333333 0.44444444 0.55555556\n",
      " 0.66666667 0.77777778 0.88888889 1.        ]\n"
     ]
    }
   ],
   "source": [
    "#  Write a Python function using NumPy to generate an array of 10 equally spaced values between 0 and 1 (inclusive).\n",
    "\n",
    "import numpy as np\n",
    "\n",
    "def generate_equally_spaced_values():\n",
    "    \"\"\"\n",
    "    Generates a NumPy array of 10 equally spaced values between 0 and 1 (inclusive).\n",
    "    \n",
    "    Returns:\n",
    "        numpy.ndarray: NumPy array containing the equally spaced values.\n",
    "    \"\"\"\n",
    "    return np.linspace(0, 1, num=10)\n",
    "\n",
    "equally_spaced_array = generate_equally_spaced_values()\n",
    "print(\"NumPy array of 10 equally spaced values between 0 and 1 (inclusive):\\n\", equally_spaced_array)\n"
   ]
  },
  {
   "cell_type": "code",
   "execution_count": 5,
   "id": "df9137bb-85ca-475c-82c3-548c36402838",
   "metadata": {},
   "outputs": [
    {
     "name": "stdout",
     "output_type": "stream",
     "text": [
      "NumPy array of 5 logarithmically spaced values between 1 and 1000 (inclusive):\n",
      " [   1.            5.62341325   31.6227766   177.827941   1000.        ]\n"
     ]
    }
   ],
   "source": [
    "# Write a Python function using NumPy to create an array of 5 logarithmically spaced values between 1 and 1000 (inclusive).\n",
    "\n",
    "import numpy as np\n",
    "\n",
    "def generate_logarithmically_spaced_values():\n",
    "    \"\"\"\n",
    "    Generates a NumPy array of 5 logarithmically spaced values between 1 and 1000 (inclusive).\n",
    "    \n",
    "    Returns:\n",
    "        numpy.ndarray: NumPy array containing the logarithmically spaced values.\n",
    "    \"\"\"\n",
    "    return np.logspace(0, 3, num=5)\n",
    "\n",
    "logarithmically_spaced_array = generate_logarithmically_spaced_values()\n",
    "print(\"NumPy array of 5 logarithmically spaced values between 1 and 1000 (inclusive):\\n\", logarithmically_spaced_array)\n"
   ]
  },
  {
   "cell_type": "code",
   "execution_count": 7,
   "id": "259d2aea-9cb6-47da-afb1-2c772baf4763",
   "metadata": {},
   "outputs": [
    {
     "name": "stdout",
     "output_type": "stream",
     "text": [
      "Pandas DataFrame:\n",
      "   Column1  Column2  Column3\n",
      "0       66       40       88\n",
      "1       47       89       82\n",
      "2       38       26       78\n",
      "3       73       10       21\n",
      "4       81       70       80\n"
     ]
    }
   ],
   "source": [
    "#  Create a Pandas DataFrame using a NumPy array that contains 5 rows and 3 columns, where the values\n",
    "# are random integers between 1 and 100.\n",
    "\n",
    "import numpy as np\n",
    "import pandas as pd\n",
    "\n",
    "# Generate a NumPy array of random integers between 1 and 100\n",
    "data = np.random.randint(1, 101, size=(5, 3))\n",
    "\n",
    "# Create a Pandas DataFrame using the NumPy array\n",
    "df = pd.DataFrame(data, columns=['Column1', 'Column2', 'Column3'])\n",
    "\n",
    "# Print the DataFrame\n",
    "print(\"Pandas DataFrame:\")\n",
    "print(df)\n"
   ]
  },
  {
   "cell_type": "code",
   "execution_count": 8,
   "id": "e3ce6bac-4a73-42e5-a681-76b51a429e98",
   "metadata": {},
   "outputs": [
    {
     "name": "stdout",
     "output_type": "stream",
     "text": [
      "Original DataFrame:\n",
      "   A   B\n",
      "0 -1   6\n",
      "1  2  -7\n",
      "2 -3   8\n",
      "3  4  -9\n",
      "4  5  10\n",
      "\n",
      "DataFrame after replacing negative values in column 'A' with zeros:\n",
      "   A   B\n",
      "0  0   6\n",
      "1  2  -7\n",
      "2  0   8\n",
      "3  4  -9\n",
      "4  5  10\n"
     ]
    }
   ],
   "source": [
    "#  Write a function that takes a Pandas DataFrame and replaces all negative values in a specific column with zeros. Use\n",
    "# NumPy operations within the Pandas DataFrame.\n",
    "\n",
    "import pandas as pd\n",
    "import numpy as np\n",
    "\n",
    "def replace_negative_with_zeros(df, column_name):\n",
    "    \"\"\"\n",
    "    Replaces all negative values in a specific column of a Pandas DataFrame with zeros.\n",
    "    \n",
    "    Parameters:\n",
    "        df (pandas.DataFrame): The Pandas DataFrame.\n",
    "        column_name (str): The name of the column containing the values to be replaced.\n",
    "    \n",
    "    Returns:\n",
    "        pandas.DataFrame: The modified Pandas DataFrame with negative values replaced by zeros.\n",
    "    \"\"\"\n",
    "    df[column_name] = np.where(df[column_name] < 0, 0, df[column_name])\n",
    "    return df\n",
    "\n",
    "data = {'A': [-1, 2, -3, 4, 5],\n",
    "        'B': [6, -7, 8, -9, 10]}\n",
    "df = pd.DataFrame(data)\n",
    "\n",
    "print(\"Original DataFrame:\")\n",
    "print(df)\n",
    "\n",
    "df_modified = replace_negative_with_zeros(df, 'A')\n",
    "\n",
    "print(\"\\nDataFrame after replacing negative values in column 'A' with zeros:\")\n",
    "print(df_modified)\n"
   ]
  },
  {
   "cell_type": "code",
   "execution_count": 10,
   "id": "ec6b3783-b981-4f7e-8858-f4af120c38b3",
   "metadata": {},
   "outputs": [
    {
     "name": "stdout",
     "output_type": "stream",
     "text": [
      "Third element of the array: 30\n"
     ]
    }
   ],
   "source": [
    "# Access the 3rd element from the given NumPy array.\n",
    "# arr = np.array([10, 20, 30, 40, 50])\n",
    "\n",
    "import numpy as np\n",
    "\n",
    "arr = np.array([10, 20, 30, 40, 50])\n",
    "Third_element = arr[2]\n",
    "\n",
    "print(\"Third element of the array:\" ,Third_element)"
   ]
  },
  {
   "cell_type": "code",
   "execution_count": 11,
   "id": "61a8b27e-5a27-4166-b7e9-a259a1c0a1ba",
   "metadata": {},
   "outputs": [
    {
     "name": "stdout",
     "output_type": "stream",
     "text": [
      "Element at index (1, 2) from the array: 6\n"
     ]
    }
   ],
   "source": [
    "# Retrieve the element at index (1, 2) from the 2D NumPy array.\n",
    "#   arr_2d = np.array([[1, 2, 3],\n",
    "#                    [4, 5, 6],\n",
    "#                    [7, 8, 9]])\n",
    "\n",
    "import numpy as np\n",
    "\n",
    "arr_2d = np.array([[1, 2, 3],\n",
    "                   [4, 5, 6],\n",
    "                   [7, 8, 9]])\n",
    "\n",
    "element_at_index_1_2 = arr_2d[1, 2]\n",
    "\n",
    "print(\"Element at index (1, 2) from the array:\", element_at_index_1_2)\n"
   ]
  },
  {
   "cell_type": "code",
   "execution_count": 12,
   "id": "d6453d11-2e0b-4365-8795-9882badc9fd5",
   "metadata": {},
   "outputs": [
    {
     "name": "stdout",
     "output_type": "stream",
     "text": [
      "Elements greater than 5 from the array: [ 8 10  7]\n"
     ]
    }
   ],
   "source": [
    "#  Using boolean indexing, extract elements greater than 5 from the given NumPy array.\n",
    "#          arr = np.array([3, 8, 2, 10, 5, 7])\n",
    "\n",
    "import numpy as np\n",
    "\n",
    "arr = np.array([3, 8, 2, 10, 5, 7])\n",
    "\n",
    "# Create a boolean mask for elements greater than 5\n",
    "mask = arr > 5\n",
    "\n",
    "# Use the mask to extract elements greater than 5\n",
    "elements_greater_than_5 = arr[mask]\n",
    "\n",
    "print(\"Elements greater than 5 from the array:\", elements_greater_than_5)\n"
   ]
  },
  {
   "cell_type": "code",
   "execution_count": 13,
   "id": "9fac89a1-c4fc-4349-8c22-22874fdacc7e",
   "metadata": {},
   "outputs": [
    {
     "name": "stdout",
     "output_type": "stream",
     "text": [
      "Sliced array from index 2 to 5 (inclusive): [3 4 5 6]\n"
     ]
    }
   ],
   "source": [
    "# Perform basic slicing to extract elements from index 2 to 5 (inclusive) from the given NumPy array.\n",
    "#           arr = np.array([1, 2, 3, 4, 5, 6, 7, 8, 9])\n",
    "\n",
    "import numpy as np\n",
    "\n",
    "arr = np.array([1, 2, 3, 4, 5, 6, 7, 8, 9])\n",
    "\n",
    "# Perform basic slicing to extract elements from index 2 to 5 (inclusive)\n",
    "sliced_array = arr[2:6]\n",
    "\n",
    "print(\"Sliced array from index 2 to 5 (inclusive):\", sliced_array)\n"
   ]
  },
  {
   "cell_type": "code",
   "execution_count": 14,
   "id": "ed7a170c-24d2-479e-adb3-abcbc4b52fe5",
   "metadata": {},
   "outputs": [
    {
     "name": "stdout",
     "output_type": "stream",
     "text": [
      "Sub-array [[2, 3], [5, 6]]:\n",
      "[[2 3]\n",
      " [5 6]]\n"
     ]
    }
   ],
   "source": [
    "# Slice the 2D NumPy array to extract the sub-array `[[2, 3], [5, 6]]` from the given array.\n",
    "#          arr_2d = np.array([[1, 2, 3],\n",
    "#                            [4, 5, 6],\n",
    "#                           [7, 8, 9]])\n",
    "\n",
    "import numpy as np\n",
    "\n",
    "arr_2d = np.array([[1, 2, 3],\n",
    "                   [4, 5, 6],\n",
    "                   [7, 8, 9]])\n",
    "\n",
    "# Slice the 2D NumPy array to extract the sub-array [[2, 3], [5, 6]]\n",
    "sub_array = arr_2d[0:2, 1:3]\n",
    "\n",
    "print(\"Sub-array [[2, 3], [5, 6]]:\")\n",
    "print(sub_array)\n"
   ]
  },
  {
   "cell_type": "code",
   "execution_count": 19,
   "id": "7ed387b8-dfa9-4491-b0bf-f7601fc08c0f",
   "metadata": {},
   "outputs": [
    {
     "name": "stdout",
     "output_type": "stream",
     "text": [
      "Extracted elements in specific order: [2 6 9]\n"
     ]
    }
   ],
   "source": [
    "# Write a NumPy function to extract elements in specific order from a given 2D array based on indices \n",
    "# provided in another array.\n",
    "\n",
    "import numpy as np\n",
    "\n",
    "def extract_elements_in_specific_order(arr_2d, indices):\n",
    "    \"\"\"\n",
    "    Extracts elements from a given 2D array based on indices provided in another array.\n",
    "    \n",
    "    Parameters:\n",
    "        arr_2d (numpy.ndarray): The 2D array from which elements are to be extracted.\n",
    "        indices (numpy.ndarray): Array containing indices specifying the order of extraction.\n",
    "    \n",
    "    Returns:\n",
    "        numpy.ndarray: Array containing elements extracted from arr_2d in the specified order.\n",
    "    \"\"\"\n",
    "    return arr_2d[np.arange(len(indices)), indices]\n",
    "\n",
    "arr_2d = np.array([[1, 2, 3],\n",
    "                   [4, 5, 6],\n",
    "                   [7, 8, 9]])\n",
    "\n",
    "indices = np.array([1, 2, 2])  # Indices specifying the order of extraction\n",
    "\n",
    "extracted_elements = extract_elements_in_specific_order(arr_2d, indices)\n",
    "\n",
    "print(\"Extracted elements in specific order:\", extracted_elements)\n"
   ]
  },
  {
   "cell_type": "code",
   "execution_count": 20,
   "id": "6ff64f65-44ef-45e9-995a-5f9acdc5c7b0",
   "metadata": {},
   "outputs": [
    {
     "name": "stdout",
     "output_type": "stream",
     "text": [
      "Filtered elements greater than 5 : [6 7 8 9]\n"
     ]
    }
   ],
   "source": [
    "#  Create a NumPy function that filters elements greater than a threshold from a given 1D array using boolean indexing.\n",
    "\n",
    "import numpy as np\n",
    "\n",
    "def filter_elements_greater_than_threshold(arr, threshold):\n",
    "   \n",
    "    return arr[arr > threshold]\n",
    "\n",
    "arr = np.array([1, 2, 3, 4, 5, 6, 7, 8, 9])\n",
    "threshold = 5\n",
    "\n",
    "filtered_elements = filter_elements_greater_than_threshold(arr, threshold)\n",
    "\n",
    "print(\"Filtered elements greater than\", threshold, \":\", filtered_elements)\n"
   ]
  },
  {
   "cell_type": "code",
   "execution_count": 1,
   "id": "5873e04c-e25f-43a5-9a20-cb784806054a",
   "metadata": {},
   "outputs": [
    {
     "name": "stdout",
     "output_type": "stream",
     "text": [
      "Extracted elements from the 3D array:\n",
      "[ 2 12]\n"
     ]
    }
   ],
   "source": [
    "#  Develop a NumPy function that extracts specific elements from a 3D array using indices provided in three\n",
    "#  separate arrays for each dimension.\n",
    "\n",
    "import numpy as np\n",
    "\n",
    "def extract_elements_3d_array(arr_3d, indices_dim1, indices_dim2, indices_dim3):\n",
    "    \"\"\"\n",
    "    Extracts specific elements from a given 3D array using indices provided in three separate arrays\n",
    "    for each dimension.\n",
    "    \n",
    "    Parameters:\n",
    "        arr_3d (numpy.ndarray): The 3D array from which elements are to be extracted.\n",
    "        indices_dim1 (numpy.ndarray): Array containing indices for the first dimension.\n",
    "        indices_dim2 (numpy.ndarray): Array containing indices for the second dimension.\n",
    "        indices_dim3 (numpy.ndarray): Array containing indices for the third dimension.\n",
    "    \n",
    "    Returns:\n",
    "        numpy.ndarray: Array containing elements extracted from arr_3d using the provided indices.\n",
    "    \"\"\"\n",
    "    return arr_3d[indices_dim1, indices_dim2, indices_dim3]\n",
    "\n",
    "arr_3d = np.array([[[1, 2, 3],\n",
    "                    [4, 5, 6]],\n",
    "                   \n",
    "                   [[7, 8, 9],\n",
    "                    [10, 11, 12]]])\n",
    "\n",
    "indices_dim1 = np.array([0, 1])\n",
    "indices_dim2 = np.array([0, 1])\n",
    "indices_dim3 = np.array([1, 2])\n",
    "\n",
    "extracted_elements = extract_elements_3d_array(arr_3d, indices_dim1, indices_dim2, indices_dim3)\n",
    "\n",
    "print(\"Extracted elements from the 3D array:\")\n",
    "print(extracted_elements)\n",
    "\n",
    "\n"
   ]
  },
  {
   "cell_type": "code",
   "execution_count": 1,
   "id": "e272bb8a-ed15-44ed-82a5-1d39273327c7",
   "metadata": {},
   "outputs": [
    {
     "name": "stdout",
     "output_type": "stream",
     "text": [
      "Elements from the array where both conditions are satisfied: [4 6 8]\n"
     ]
    }
   ],
   "source": [
    "#  Write a NumPy function that returns elements from an array where both two conditions are satisfied\n",
    "# using boolean indexing.\n",
    "\n",
    "import numpy as np\n",
    "\n",
    "def elements_satisfying_conditions(arr, condition1, condition2):\n",
    "    \"\"\"\n",
    "    Returns elements from an array where both two conditions are satisfied using boolean indexing.\n",
    "    \n",
    "    Parameters:\n",
    "        arr (numpy.ndarray): The input array.\n",
    "        condition1 (numpy.ndarray): Boolean array specifying the first condition.\n",
    "        condition2 (numpy.ndarray): Boolean array specifying the second condition.\n",
    "    \n",
    "    Returns:\n",
    "        numpy.ndarray: Array containing elements from arr where both conditions are satisfied.\n",
    "    \"\"\"\n",
    "    return arr[np.logical_and(condition1, condition2)]\n",
    "\n",
    "arr = np.array([1, 2, 3, 4, 5, 6, 7, 8, 9])\n",
    "condition1 = arr > 3  # Elements greater than 3\n",
    "condition2 = arr % 2 == 0  # Even elements\n",
    "\n",
    "satisfied_elements = elements_satisfying_conditions(arr, condition1, condition2)\n",
    "\n",
    "print(\"Elements from the array where both conditions are satisfied:\", satisfied_elements)\n"
   ]
  },
  {
   "cell_type": "code",
   "execution_count": 2,
   "id": "18279795-2f3c-42fc-a631-fd5743096a5b",
   "metadata": {},
   "outputs": [
    {
     "name": "stdout",
     "output_type": "stream",
     "text": [
      "Extracted elements from the 2D array:\n",
      "[1 6 8]\n"
     ]
    }
   ],
   "source": [
    "# Create a NumPy function that extracts elements from a 2D array using row and column indices provided in separate arrays.\n",
    "\n",
    "import numpy as np\n",
    "\n",
    "def extract_elements_2d_array(arr_2d, row_indices, col_indices):\n",
    "    \"\"\"\n",
    "    Extracts elements from a 2D array using row and column indices provided in separate arrays.\n",
    "    \n",
    "    Parameters:\n",
    "        arr_2d (numpy.ndarray): The 2D array from which elements are to be extracted.\n",
    "        row_indices (numpy.ndarray): Array containing row indices.\n",
    "        col_indices (numpy.ndarray): Array containing column indices.\n",
    "    \n",
    "    Returns:\n",
    "        numpy.ndarray: Array containing elements extracted from arr_2d using the provided row and column indices.\n",
    "    \"\"\"\n",
    "    return arr_2d[row_indices, col_indices]\n",
    "\n",
    "arr_2d = np.array([[1, 2, 3],\n",
    "                   [4, 5, 6],\n",
    "                   [7, 8, 9]])\n",
    "row_indices = np.array([0, 1, 2])  # Row indices\n",
    "col_indices = np.array([0, 2, 1])  # Column indices\n",
    "\n",
    "extracted_elements = extract_elements_2d_array(arr_2d, row_indices, col_indices)\n",
    "\n",
    "print(\"Extracted elements from the 2D array:\")\n",
    "print(extracted_elements)\n"
   ]
  },
  {
   "cell_type": "code",
   "execution_count": 3,
   "id": "50b67128-da4d-48f6-9570-0cede91460f7",
   "metadata": {},
   "outputs": [
    {
     "name": "stdout",
     "output_type": "stream",
     "text": [
      "Original array:\n",
      "[[1 2 3]\n",
      " [4 5 6]\n",
      " [7 8 9]]\n",
      "\n",
      "Array after adding a scalar value of 5 to each element:\n",
      "[[ 6  7  8]\n",
      " [ 9 10 11]\n",
      " [12 13 14]]\n"
     ]
    }
   ],
   "source": [
    "# Given an array arr of shape (3, 3), add a scalar value of 5 to each element using NumPy broadcasting.\n",
    "\n",
    "import numpy as np\n",
    "\n",
    "# Given array arr of shape (3, 3)\n",
    "arr = np.array([[1, 2, 3],\n",
    "                [4, 5, 6],\n",
    "                [7, 8, 9]])\n",
    "\n",
    "# Add a scalar value of 5 to each element using broadcasting\n",
    "result = arr + 5\n",
    "\n",
    "print(\"Original array:\")\n",
    "print(arr)\n",
    "\n",
    "print(\"\\nArray after adding a scalar value of 5 to each element:\")\n",
    "print(result)\n"
   ]
  },
  {
   "cell_type": "code",
   "execution_count": 6,
   "id": "89b0b844-dc50-4b07-9961-fa728d9ab903",
   "metadata": {},
   "outputs": [
    {
     "name": "stdout",
     "output_type": "stream",
     "text": [
      "Result after multiplying each row of arr2 by the corresponding element in arr1:\n",
      "[[ 2  4  6  8]\n",
      " [15 18 21 24]\n",
      " [36 40 44 48]]\n"
     ]
    }
   ],
   "source": [
    "# Consider two arrays arr1 of shape (1, 3) and arr2 of shape (3, 4). Multiply each row of arr2 by the\n",
    "# corresponding element in arr1 using NumPy broadcasting.\n",
    "\n",
    "import numpy as np\n",
    "\n",
    "# Given arrays\n",
    "arr1 = np.array([[2, 3, 4]])  # Shape: (1, 3)\n",
    "arr2 = np.array([[1, 2, 3, 4],\n",
    "                 [5, 6, 7, 8],\n",
    "                 [9, 10, 11, 12]])  # Shape: (3, 4)\n",
    "\n",
    "# Reshape arr1 to (3, 1) to match the shape of arr2 for broadcasting\n",
    "arr1_reshaped = arr1.reshape(3, 1)\n",
    "\n",
    "# Multiply each row of arr2 by the corresponding element in arr1 using broadcasting\n",
    "result = arr2 * arr1_reshaped\n",
    "\n",
    "print(\"Result after multiplying each row of arr2 by the corresponding element in arr1:\")\n",
    "print(result)\n"
   ]
  },
  {
   "cell_type": "code",
   "execution_count": 7,
   "id": "db01baf1-a2fd-42f9-9dbf-59b5924313f2",
   "metadata": {},
   "outputs": [
    {
     "name": "stdout",
     "output_type": "stream",
     "text": [
      "Result after adding arr1 to each row of arr2:\n",
      "[[ 6  7  8]\n",
      " [10 11 12]\n",
      " [14 15 16]\n",
      " [18 19 20]]\n"
     ]
    }
   ],
   "source": [
    "#  Given a 1D array arr1 of shape (1, 4) and a 2D array arr2 of shape (4, 3), add arr1 to each row of arr2 using\n",
    "# NumPy broadcasting.\n",
    "\n",
    "import numpy as np\n",
    "\n",
    "# Given arrays\n",
    "arr1 = np.array([[1, 2, 3, 4]])  # Shape: (1, 4)\n",
    "arr2 = np.array([[5, 6, 7],\n",
    "                 [8, 9, 10],\n",
    "                 [11, 12, 13],\n",
    "                 [14, 15, 16]])  # Shape: (4, 3)\n",
    "\n",
    "# Reshape arr1 to (4, 1) to match the shape of arr2 for broadcasting\n",
    "arr1_reshaped = arr1.reshape(4, 1)\n",
    "\n",
    "# Add arr1 to each row of arr2 using broadcasting\n",
    "result = arr2 + arr1_reshaped\n",
    "\n",
    "print(\"Result after adding arr1 to each row of arr2:\")\n",
    "print(result)\n"
   ]
  },
  {
   "cell_type": "code",
   "execution_count": 8,
   "id": "4a7e008b-cc51-45c7-9a8f-0ff0d5af5d7c",
   "metadata": {},
   "outputs": [
    {
     "name": "stdout",
     "output_type": "stream",
     "text": [
      "Result after adding arr1 and arr2 using broadcasting:\n",
      "[[5 6 7]\n",
      " [6 7 8]\n",
      " [7 8 9]]\n"
     ]
    }
   ],
   "source": [
    "#  Consider two arrays arr1 of shape (3, 1) and arr2 of shape (1, 3). Add these arrays using NumPy broadcasting.\n",
    "\n",
    "import numpy as np\n",
    "\n",
    "# Given arrays\n",
    "arr1 = np.array([[1],\n",
    "                  [2],\n",
    "                  [3]])  # Shape: (3, 1)\n",
    "arr2 = np.array([[4, 5, 6]])  # Shape: (1, 3)\n",
    "\n",
    "# Add arr1 and arr2 using broadcasting\n",
    "result = arr1 + arr2\n",
    "\n",
    "print(\"Result after adding arr1 and arr2 using broadcasting:\")\n",
    "print(result)\n"
   ]
  },
  {
   "cell_type": "code",
   "execution_count": 13,
   "id": "29c8324e-0ead-4054-95e9-12dd5dcc2be0",
   "metadata": {},
   "outputs": [
    {
     "name": "stdout",
     "output_type": "stream",
     "text": [
      "Result after multiplication using NumPy broadcasting with added axis:\n",
      "[[[ 7 14 21]\n",
      "  [32 40 48]]\n",
      "\n",
      " [[ 9 18 27]\n",
      "  [40 50 60]]]\n"
     ]
    }
   ],
   "source": [
    "#  Given arrays arr1 of shape (2, 3) and arr2 of shape (2, 2), perform multiplication using NumPy broadcasting.\n",
    "# Handle the shape incompatibility.\n",
    "\n",
    "import numpy as np\n",
    "\n",
    "# Given arrays\n",
    "arr1 = np.array([[1, 2, 3],\n",
    "                  [4, 5, 6]])  # Shape: (2, 3)\n",
    "arr2 = np.array([[7, 8],\n",
    "                  [9, 10]])  # Shape: (2, 2)\n",
    "\n",
    "# Add a new axis to arr2 to make its shape compatible with arr1 for broadcasting\n",
    "arr2_newaxis = arr2[:, :, np.newaxis]  # Adding a new axis along the third dimension\n",
    "\n",
    "# Perform multiplication using broadcasting\n",
    "result = arr1 * arr2_newaxis\n",
    "\n",
    "print(\"Result after multiplication using NumPy broadcasting with added axis:\")\n",
    "print(result)\n"
   ]
  }
 ],
 "metadata": {
  "kernelspec": {
   "display_name": "Python 3 (ipykernel)",
   "language": "python",
   "name": "python3"
  },
  "language_info": {
   "codemirror_mode": {
    "name": "ipython",
    "version": 3
   },
   "file_extension": ".py",
   "mimetype": "text/x-python",
   "name": "python",
   "nbconvert_exporter": "python",
   "pygments_lexer": "ipython3",
   "version": "3.10.8"
  }
 },
 "nbformat": 4,
 "nbformat_minor": 5
}
